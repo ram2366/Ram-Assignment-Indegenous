{
  "nbformat": 4,
  "nbformat_minor": 0,
  "metadata": {
    "colab": {
      "provenance": []
    },
    "kernelspec": {
      "name": "python3",
      "display_name": "Python 3"
    },
    "language_info": {
      "name": "python"
    }
  },
  "cells": [
    {
      "cell_type": "markdown",
      "source": [
        "please install this packages"
      ],
      "metadata": {
        "id": "CPI2VD793Ueo"
      }
    },
    {
      "cell_type": "code",
      "source": [
        "!pip install pycountry"
      ],
      "metadata": {
        "colab": {
          "base_uri": "https://localhost:8080/"
        },
        "id": "l6UOKOz73Id8",
        "outputId": "2c4db54d-6499-4392-9ff9-c16af9b4c928"
      },
      "execution_count": 1,
      "outputs": [
        {
          "output_type": "stream",
          "name": "stdout",
          "text": [
            "Looking in indexes: https://pypi.org/simple, https://us-python.pkg.dev/colab-wheels/public/simple/\n",
            "Collecting pycountry\n",
            "  Downloading pycountry-22.3.5.tar.gz (10.1 MB)\n",
            "\u001b[K     |████████████████████████████████| 10.1 MB 5.3 MB/s \n",
            "\u001b[?25h  Installing build dependencies ... \u001b[?25l\u001b[?25hdone\n",
            "  Getting requirements to build wheel ... \u001b[?25l\u001b[?25hdone\n",
            "    Preparing wheel metadata ... \u001b[?25l\u001b[?25hdone\n",
            "Requirement already satisfied: setuptools in /usr/local/lib/python3.8/dist-packages (from pycountry) (57.4.0)\n",
            "Building wheels for collected packages: pycountry\n",
            "  Building wheel for pycountry (PEP 517) ... \u001b[?25l\u001b[?25hdone\n",
            "  Created wheel for pycountry: filename=pycountry-22.3.5-py2.py3-none-any.whl size=10681845 sha256=7d73d75bd503c282914d29616c258ddf1ffd7c5f7a571873afc5f6a4f158f06c\n",
            "  Stored in directory: /root/.cache/pip/wheels/e2/aa/0f/c224e473b464387170b83ca7c66947b4a7e33e8d903a679748\n",
            "Successfully built pycountry\n",
            "Installing collected packages: pycountry\n",
            "Successfully installed pycountry-22.3.5\n"
          ]
        }
      ]
    },
    {
      "cell_type": "code",
      "source": [
        "!pip install googletrans==3.1.0a0 #pip install googletrans==4.0.0-rc1"
      ],
      "metadata": {
        "colab": {
          "base_uri": "https://localhost:8080/"
        },
        "id": "s461IP1d3Om2",
        "outputId": "875e8eac-1748-4911-fe50-25ac22025691"
      },
      "execution_count": 2,
      "outputs": [
        {
          "output_type": "stream",
          "name": "stdout",
          "text": [
            "Looking in indexes: https://pypi.org/simple, https://us-python.pkg.dev/colab-wheels/public/simple/\n",
            "Collecting googletrans==3.1.0a0\n",
            "  Downloading googletrans-3.1.0a0.tar.gz (19 kB)\n",
            "Collecting httpx==0.13.3\n",
            "  Downloading httpx-0.13.3-py3-none-any.whl (55 kB)\n",
            "\u001b[K     |████████████████████████████████| 55 kB 2.3 MB/s \n",
            "\u001b[?25hRequirement already satisfied: chardet==3.* in /usr/local/lib/python3.8/dist-packages (from httpx==0.13.3->googletrans==3.1.0a0) (3.0.4)\n",
            "Collecting hstspreload\n",
            "  Downloading hstspreload-2022.12.1-py3-none-any.whl (1.5 MB)\n",
            "\u001b[K     |████████████████████████████████| 1.5 MB 10.5 MB/s \n",
            "\u001b[?25hRequirement already satisfied: idna==2.* in /usr/local/lib/python3.8/dist-packages (from httpx==0.13.3->googletrans==3.1.0a0) (2.10)\n",
            "Requirement already satisfied: certifi in /usr/local/lib/python3.8/dist-packages (from httpx==0.13.3->googletrans==3.1.0a0) (2022.12.7)\n",
            "Collecting httpcore==0.9.*\n",
            "  Downloading httpcore-0.9.1-py3-none-any.whl (42 kB)\n",
            "\u001b[K     |████████████████████████████████| 42 kB 1.2 MB/s \n",
            "\u001b[?25hCollecting sniffio\n",
            "  Downloading sniffio-1.3.0-py3-none-any.whl (10 kB)\n",
            "Collecting rfc3986<2,>=1.3\n",
            "  Downloading rfc3986-1.5.0-py2.py3-none-any.whl (31 kB)\n",
            "Collecting h2==3.*\n",
            "  Downloading h2-3.2.0-py2.py3-none-any.whl (65 kB)\n",
            "\u001b[K     |████████████████████████████████| 65 kB 3.5 MB/s \n",
            "\u001b[?25hCollecting h11<0.10,>=0.8\n",
            "  Downloading h11-0.9.0-py2.py3-none-any.whl (53 kB)\n",
            "\u001b[K     |████████████████████████████████| 53 kB 2.1 MB/s \n",
            "\u001b[?25hCollecting hpack<4,>=3.0\n",
            "  Downloading hpack-3.0.0-py2.py3-none-any.whl (38 kB)\n",
            "Collecting hyperframe<6,>=5.2.0\n",
            "  Downloading hyperframe-5.2.0-py2.py3-none-any.whl (12 kB)\n",
            "Building wheels for collected packages: googletrans\n",
            "  Building wheel for googletrans (setup.py) ... \u001b[?25l\u001b[?25hdone\n",
            "  Created wheel for googletrans: filename=googletrans-3.1.0a0-py3-none-any.whl size=16368 sha256=e0ba2a6359b353a28059a7d6b209adac714575e7e6787de79898b79164e5f312\n",
            "  Stored in directory: /root/.cache/pip/wheels/dd/59/af/8d6c96a719763990f1c548e36b17d9efdfb767f42f7ff39f53\n",
            "Successfully built googletrans\n",
            "Installing collected packages: hyperframe, hpack, sniffio, h2, h11, rfc3986, httpcore, hstspreload, httpx, googletrans\n",
            "Successfully installed googletrans-3.1.0a0 h11-0.9.0 h2-3.2.0 hpack-3.0.0 hstspreload-2022.12.1 httpcore-0.9.1 httpx-0.13.3 hyperframe-5.2.0 rfc3986-1.5.0 sniffio-1.3.0\n"
          ]
        }
      ]
    },
    {
      "cell_type": "markdown",
      "source": [
        "TASK :: Take any newspaper data through their API and classify the sentiment within the articles."
      ],
      "metadata": {
        "id": "OPHU6CwJ1pwe"
      }
    },
    {
      "cell_type": "code",
      "source": [
        "#importing libraries\n",
        "import requests\n",
        "import json\n",
        "import pandas as pd\n",
        "import pycountry\n",
        "from googletrans import Translator"
      ],
      "metadata": {
        "id": "JO1nqt-p6O1q"
      },
      "execution_count": 3,
      "outputs": []
    },
    {
      "cell_type": "code",
      "source": [
        "#initializing arrays\n",
        "title=[]\n",
        "description=[]\n",
        "publishedAt = []\n",
        "category = []"
      ],
      "metadata": {
        "id": "s3krX1KuCnhB"
      },
      "execution_count": 4,
      "outputs": []
    },
    {
      "cell_type": "code",
      "source": [
        "categories= ['business','entertainment','health','science','sports','technology']\n",
        "countries = [country.alpha_2 for country in list(pycountry.countries)] "
      ],
      "metadata": {
        "id": "uMt2M2m3n53Z"
      },
      "execution_count": 5,
      "outputs": []
    },
    {
      "cell_type": "code",
      "source": [
        "1#function for getting data from api\n",
        "def get_data(con,cat):\n",
        "  r = requests.get(f\"https://newsapi.org/v2/top-headlines?country={con}&category={cat}&apiKey=5d5f3eead563403ca1faad1f3d663c8e\")\n",
        "  data = json.loads(r.content)\n",
        "  # print(data)\n",
        "  for i in range(len(data['articles'])):\n",
        "    title.append(data['articles'][i]['title'])\n",
        "    description.append(data['articles'][i]['description'])\n",
        "    publishedAt.append(data['articles'][i]['publishedAt'])\n",
        "    category.append(cat)"
      ],
      "metadata": {
        "id": "UXRCzB51B88W"
      },
      "execution_count": 6,
      "outputs": []
    },
    {
      "cell_type": "code",
      "source": [
        "for country in countries:\n",
        "  for cat in categories:\n",
        "    try:\n",
        "      get_data(country,cat) #as countries are not availble in api try except to handle that error\n",
        "    except:\n",
        "      continue"
      ],
      "metadata": {
        "id": "iMGB7ObpoUqe"
      },
      "execution_count": 7,
      "outputs": []
    },
    {
      "cell_type": "code",
      "source": [
        "df = pd.DataFrame() #creating datafarme"
      ],
      "metadata": {
        "id": "oJBNJc9_C_Qc"
      },
      "execution_count": 8,
      "outputs": []
    },
    {
      "cell_type": "code",
      "source": [
        "#assigning columns of data frame\n",
        "df['title']=title\n",
        "df['description']=description\n",
        "df['publishedAt'] = publishedAt\n",
        "df['category']=category"
      ],
      "metadata": {
        "id": "Nzn0rmazDIPD"
      },
      "execution_count": 9,
      "outputs": []
    },
    {
      "cell_type": "code",
      "source": [
        "df.head()"
      ],
      "metadata": {
        "colab": {
          "base_uri": "https://localhost:8080/",
          "height": 206
        },
        "id": "J3MNZ-b0Ei0G",
        "outputId": "f6458928-c4d4-4655-e3f9-e70d04c9a15a"
      },
      "execution_count": 10,
      "outputs": [
        {
          "output_type": "execute_result",
          "data": {
            "text/plain": [
              "                                               title  \\\n",
              "0  أخبار العالم : أسعار الذهب اليوم الإثنين 26 دي...   \n",
              "1  بعد رفع سعر الفائدة.. سعر الجنيه المصري مقابل ...   \n",
              "2  عالمي تغليف المشروبات بالبلاستيك سوق قم بتطوير...   \n",
              "3  عالمي خزانات طبية ببابين سوق قم بتطوير معدل نم...   \n",
              "4  أخبار التكنولوجيا : تسلا تستعين بشركة TSMC للح...   \n",
              "\n",
              "                                         description           publishedAt  \\\n",
              "0  أخبار العالم : يرصد التقرير التالي سعر الذهب ا...  2022-12-26T05:51:20Z   \n",
              "1  (MENAFN - Al-Bayan)  ??? ??? ?????? ?????? ???...  2022-12-26T05:25:29Z   \n",
              "2  يقدم تقرير Market.us \"تغليف المشروبات بالبلاست...  2022-12-26T04:07:57Z   \n",
              "3                                               None  2022-12-26T02:23:00Z   \n",
              "4  أخبار التكنولوجيا : كشف تقرير حديث لـ DigiTime...  2022-12-26T02:20:34Z   \n",
              "\n",
              "   category  \n",
              "0  business  \n",
              "1  business  \n",
              "2  business  \n",
              "3  business  \n",
              "4  business  "
            ],
            "text/html": [
              "\n",
              "  <div id=\"df-b8740626-a419-49e8-9f61-8b2ad813cfeb\">\n",
              "    <div class=\"colab-df-container\">\n",
              "      <div>\n",
              "<style scoped>\n",
              "    .dataframe tbody tr th:only-of-type {\n",
              "        vertical-align: middle;\n",
              "    }\n",
              "\n",
              "    .dataframe tbody tr th {\n",
              "        vertical-align: top;\n",
              "    }\n",
              "\n",
              "    .dataframe thead th {\n",
              "        text-align: right;\n",
              "    }\n",
              "</style>\n",
              "<table border=\"1\" class=\"dataframe\">\n",
              "  <thead>\n",
              "    <tr style=\"text-align: right;\">\n",
              "      <th></th>\n",
              "      <th>title</th>\n",
              "      <th>description</th>\n",
              "      <th>publishedAt</th>\n",
              "      <th>category</th>\n",
              "    </tr>\n",
              "  </thead>\n",
              "  <tbody>\n",
              "    <tr>\n",
              "      <th>0</th>\n",
              "      <td>أخبار العالم : أسعار الذهب اليوم الإثنين 26 دي...</td>\n",
              "      <td>أخبار العالم : يرصد التقرير التالي سعر الذهب ا...</td>\n",
              "      <td>2022-12-26T05:51:20Z</td>\n",
              "      <td>business</td>\n",
              "    </tr>\n",
              "    <tr>\n",
              "      <th>1</th>\n",
              "      <td>بعد رفع سعر الفائدة.. سعر الجنيه المصري مقابل ...</td>\n",
              "      <td>(MENAFN - Al-Bayan)  ??? ??? ?????? ?????? ???...</td>\n",
              "      <td>2022-12-26T05:25:29Z</td>\n",
              "      <td>business</td>\n",
              "    </tr>\n",
              "    <tr>\n",
              "      <th>2</th>\n",
              "      <td>عالمي تغليف المشروبات بالبلاستيك سوق قم بتطوير...</td>\n",
              "      <td>يقدم تقرير Market.us \"تغليف المشروبات بالبلاست...</td>\n",
              "      <td>2022-12-26T04:07:57Z</td>\n",
              "      <td>business</td>\n",
              "    </tr>\n",
              "    <tr>\n",
              "      <th>3</th>\n",
              "      <td>عالمي خزانات طبية ببابين سوق قم بتطوير معدل نم...</td>\n",
              "      <td>None</td>\n",
              "      <td>2022-12-26T02:23:00Z</td>\n",
              "      <td>business</td>\n",
              "    </tr>\n",
              "    <tr>\n",
              "      <th>4</th>\n",
              "      <td>أخبار التكنولوجيا : تسلا تستعين بشركة TSMC للح...</td>\n",
              "      <td>أخبار التكنولوجيا : كشف تقرير حديث لـ DigiTime...</td>\n",
              "      <td>2022-12-26T02:20:34Z</td>\n",
              "      <td>business</td>\n",
              "    </tr>\n",
              "  </tbody>\n",
              "</table>\n",
              "</div>\n",
              "      <button class=\"colab-df-convert\" onclick=\"convertToInteractive('df-b8740626-a419-49e8-9f61-8b2ad813cfeb')\"\n",
              "              title=\"Convert this dataframe to an interactive table.\"\n",
              "              style=\"display:none;\">\n",
              "        \n",
              "  <svg xmlns=\"http://www.w3.org/2000/svg\" height=\"24px\"viewBox=\"0 0 24 24\"\n",
              "       width=\"24px\">\n",
              "    <path d=\"M0 0h24v24H0V0z\" fill=\"none\"/>\n",
              "    <path d=\"M18.56 5.44l.94 2.06.94-2.06 2.06-.94-2.06-.94-.94-2.06-.94 2.06-2.06.94zm-11 1L8.5 8.5l.94-2.06 2.06-.94-2.06-.94L8.5 2.5l-.94 2.06-2.06.94zm10 10l.94 2.06.94-2.06 2.06-.94-2.06-.94-.94-2.06-.94 2.06-2.06.94z\"/><path d=\"M17.41 7.96l-1.37-1.37c-.4-.4-.92-.59-1.43-.59-.52 0-1.04.2-1.43.59L10.3 9.45l-7.72 7.72c-.78.78-.78 2.05 0 2.83L4 21.41c.39.39.9.59 1.41.59.51 0 1.02-.2 1.41-.59l7.78-7.78 2.81-2.81c.8-.78.8-2.07 0-2.86zM5.41 20L4 18.59l7.72-7.72 1.47 1.35L5.41 20z\"/>\n",
              "  </svg>\n",
              "      </button>\n",
              "      \n",
              "  <style>\n",
              "    .colab-df-container {\n",
              "      display:flex;\n",
              "      flex-wrap:wrap;\n",
              "      gap: 12px;\n",
              "    }\n",
              "\n",
              "    .colab-df-convert {\n",
              "      background-color: #E8F0FE;\n",
              "      border: none;\n",
              "      border-radius: 50%;\n",
              "      cursor: pointer;\n",
              "      display: none;\n",
              "      fill: #1967D2;\n",
              "      height: 32px;\n",
              "      padding: 0 0 0 0;\n",
              "      width: 32px;\n",
              "    }\n",
              "\n",
              "    .colab-df-convert:hover {\n",
              "      background-color: #E2EBFA;\n",
              "      box-shadow: 0px 1px 2px rgba(60, 64, 67, 0.3), 0px 1px 3px 1px rgba(60, 64, 67, 0.15);\n",
              "      fill: #174EA6;\n",
              "    }\n",
              "\n",
              "    [theme=dark] .colab-df-convert {\n",
              "      background-color: #3B4455;\n",
              "      fill: #D2E3FC;\n",
              "    }\n",
              "\n",
              "    [theme=dark] .colab-df-convert:hover {\n",
              "      background-color: #434B5C;\n",
              "      box-shadow: 0px 1px 3px 1px rgba(0, 0, 0, 0.15);\n",
              "      filter: drop-shadow(0px 1px 2px rgba(0, 0, 0, 0.3));\n",
              "      fill: #FFFFFF;\n",
              "    }\n",
              "  </style>\n",
              "\n",
              "      <script>\n",
              "        const buttonEl =\n",
              "          document.querySelector('#df-b8740626-a419-49e8-9f61-8b2ad813cfeb button.colab-df-convert');\n",
              "        buttonEl.style.display =\n",
              "          google.colab.kernel.accessAllowed ? 'block' : 'none';\n",
              "\n",
              "        async function convertToInteractive(key) {\n",
              "          const element = document.querySelector('#df-b8740626-a419-49e8-9f61-8b2ad813cfeb');\n",
              "          const dataTable =\n",
              "            await google.colab.kernel.invokeFunction('convertToInteractive',\n",
              "                                                     [key], {});\n",
              "          if (!dataTable) return;\n",
              "\n",
              "          const docLinkHtml = 'Like what you see? Visit the ' +\n",
              "            '<a target=\"_blank\" href=https://colab.research.google.com/notebooks/data_table.ipynb>data table notebook</a>'\n",
              "            + ' to learn more about interactive tables.';\n",
              "          element.innerHTML = '';\n",
              "          dataTable['output_type'] = 'display_data';\n",
              "          await google.colab.output.renderOutput(dataTable, element);\n",
              "          const docLink = document.createElement('div');\n",
              "          docLink.innerHTML = docLinkHtml;\n",
              "          element.appendChild(docLink);\n",
              "        }\n",
              "      </script>\n",
              "    </div>\n",
              "  </div>\n",
              "  "
            ]
          },
          "metadata": {},
          "execution_count": 10
        }
      ]
    },
    {
      "cell_type": "code",
      "source": [
        "df.tail()"
      ],
      "metadata": {
        "colab": {
          "base_uri": "https://localhost:8080/",
          "height": 206
        },
        "id": "qSw9pfMnDILh",
        "outputId": "fdb1f512-1ceb-46a3-9e05-f1df55ad16b7"
      },
      "execution_count": 11,
      "outputs": [
        {
          "output_type": "execute_result",
          "data": {
            "text/plain": [
              "                                                 title  \\\n",
              "455  10 Begriffe, die nur echte PC-Profis kennen - ...   \n",
              "456  Digitalwährungen im Fokus: So bewegen sich Bit...   \n",
              "457  Das ComputerBase-Weihnachtsrätsel 2022 - Compu...   \n",
              "458  Vom iPhone zu Android wechseln: So einfach ist...   \n",
              "459  Mit usenet-crew.com geht bald weiteres Forum a...   \n",
              "\n",
              "                                           description           publishedAt  \\\n",
              "455                                               None  2022-12-25T08:03:00Z   \n",
              "456               So bewegen sich Bitcoin & Co. heute.  2022-12-25T07:48:20Z   \n",
              "457  Dir war das Nikolaus-Rätsel in diesem Jahr nic...  2022-12-25T07:00:00Z   \n",
              "458  Ob zu Samsung, Xiaomi oder Sony: Der Umzug vom...  2022-12-25T06:56:30Z   \n",
              "459  In naher Zukunft soll das neue deutschsprachig...  2022-12-25T06:30:28Z   \n",
              "\n",
              "       category  \n",
              "455  technology  \n",
              "456  technology  \n",
              "457  technology  \n",
              "458  technology  \n",
              "459  technology  "
            ],
            "text/html": [
              "\n",
              "  <div id=\"df-723a6e2b-b116-4696-968b-494aa7326aff\">\n",
              "    <div class=\"colab-df-container\">\n",
              "      <div>\n",
              "<style scoped>\n",
              "    .dataframe tbody tr th:only-of-type {\n",
              "        vertical-align: middle;\n",
              "    }\n",
              "\n",
              "    .dataframe tbody tr th {\n",
              "        vertical-align: top;\n",
              "    }\n",
              "\n",
              "    .dataframe thead th {\n",
              "        text-align: right;\n",
              "    }\n",
              "</style>\n",
              "<table border=\"1\" class=\"dataframe\">\n",
              "  <thead>\n",
              "    <tr style=\"text-align: right;\">\n",
              "      <th></th>\n",
              "      <th>title</th>\n",
              "      <th>description</th>\n",
              "      <th>publishedAt</th>\n",
              "      <th>category</th>\n",
              "    </tr>\n",
              "  </thead>\n",
              "  <tbody>\n",
              "    <tr>\n",
              "      <th>455</th>\n",
              "      <td>10 Begriffe, die nur echte PC-Profis kennen - ...</td>\n",
              "      <td>None</td>\n",
              "      <td>2022-12-25T08:03:00Z</td>\n",
              "      <td>technology</td>\n",
              "    </tr>\n",
              "    <tr>\n",
              "      <th>456</th>\n",
              "      <td>Digitalwährungen im Fokus: So bewegen sich Bit...</td>\n",
              "      <td>So bewegen sich Bitcoin &amp; Co. heute.</td>\n",
              "      <td>2022-12-25T07:48:20Z</td>\n",
              "      <td>technology</td>\n",
              "    </tr>\n",
              "    <tr>\n",
              "      <th>457</th>\n",
              "      <td>Das ComputerBase-Weihnachtsrätsel 2022 - Compu...</td>\n",
              "      <td>Dir war das Nikolaus-Rätsel in diesem Jahr nic...</td>\n",
              "      <td>2022-12-25T07:00:00Z</td>\n",
              "      <td>technology</td>\n",
              "    </tr>\n",
              "    <tr>\n",
              "      <th>458</th>\n",
              "      <td>Vom iPhone zu Android wechseln: So einfach ist...</td>\n",
              "      <td>Ob zu Samsung, Xiaomi oder Sony: Der Umzug vom...</td>\n",
              "      <td>2022-12-25T06:56:30Z</td>\n",
              "      <td>technology</td>\n",
              "    </tr>\n",
              "    <tr>\n",
              "      <th>459</th>\n",
              "      <td>Mit usenet-crew.com geht bald weiteres Forum a...</td>\n",
              "      <td>In naher Zukunft soll das neue deutschsprachig...</td>\n",
              "      <td>2022-12-25T06:30:28Z</td>\n",
              "      <td>technology</td>\n",
              "    </tr>\n",
              "  </tbody>\n",
              "</table>\n",
              "</div>\n",
              "      <button class=\"colab-df-convert\" onclick=\"convertToInteractive('df-723a6e2b-b116-4696-968b-494aa7326aff')\"\n",
              "              title=\"Convert this dataframe to an interactive table.\"\n",
              "              style=\"display:none;\">\n",
              "        \n",
              "  <svg xmlns=\"http://www.w3.org/2000/svg\" height=\"24px\"viewBox=\"0 0 24 24\"\n",
              "       width=\"24px\">\n",
              "    <path d=\"M0 0h24v24H0V0z\" fill=\"none\"/>\n",
              "    <path d=\"M18.56 5.44l.94 2.06.94-2.06 2.06-.94-2.06-.94-.94-2.06-.94 2.06-2.06.94zm-11 1L8.5 8.5l.94-2.06 2.06-.94-2.06-.94L8.5 2.5l-.94 2.06-2.06.94zm10 10l.94 2.06.94-2.06 2.06-.94-2.06-.94-.94-2.06-.94 2.06-2.06.94z\"/><path d=\"M17.41 7.96l-1.37-1.37c-.4-.4-.92-.59-1.43-.59-.52 0-1.04.2-1.43.59L10.3 9.45l-7.72 7.72c-.78.78-.78 2.05 0 2.83L4 21.41c.39.39.9.59 1.41.59.51 0 1.02-.2 1.41-.59l7.78-7.78 2.81-2.81c.8-.78.8-2.07 0-2.86zM5.41 20L4 18.59l7.72-7.72 1.47 1.35L5.41 20z\"/>\n",
              "  </svg>\n",
              "      </button>\n",
              "      \n",
              "  <style>\n",
              "    .colab-df-container {\n",
              "      display:flex;\n",
              "      flex-wrap:wrap;\n",
              "      gap: 12px;\n",
              "    }\n",
              "\n",
              "    .colab-df-convert {\n",
              "      background-color: #E8F0FE;\n",
              "      border: none;\n",
              "      border-radius: 50%;\n",
              "      cursor: pointer;\n",
              "      display: none;\n",
              "      fill: #1967D2;\n",
              "      height: 32px;\n",
              "      padding: 0 0 0 0;\n",
              "      width: 32px;\n",
              "    }\n",
              "\n",
              "    .colab-df-convert:hover {\n",
              "      background-color: #E2EBFA;\n",
              "      box-shadow: 0px 1px 2px rgba(60, 64, 67, 0.3), 0px 1px 3px 1px rgba(60, 64, 67, 0.15);\n",
              "      fill: #174EA6;\n",
              "    }\n",
              "\n",
              "    [theme=dark] .colab-df-convert {\n",
              "      background-color: #3B4455;\n",
              "      fill: #D2E3FC;\n",
              "    }\n",
              "\n",
              "    [theme=dark] .colab-df-convert:hover {\n",
              "      background-color: #434B5C;\n",
              "      box-shadow: 0px 1px 3px 1px rgba(0, 0, 0, 0.15);\n",
              "      filter: drop-shadow(0px 1px 2px rgba(0, 0, 0, 0.3));\n",
              "      fill: #FFFFFF;\n",
              "    }\n",
              "  </style>\n",
              "\n",
              "      <script>\n",
              "        const buttonEl =\n",
              "          document.querySelector('#df-723a6e2b-b116-4696-968b-494aa7326aff button.colab-df-convert');\n",
              "        buttonEl.style.display =\n",
              "          google.colab.kernel.accessAllowed ? 'block' : 'none';\n",
              "\n",
              "        async function convertToInteractive(key) {\n",
              "          const element = document.querySelector('#df-723a6e2b-b116-4696-968b-494aa7326aff');\n",
              "          const dataTable =\n",
              "            await google.colab.kernel.invokeFunction('convertToInteractive',\n",
              "                                                     [key], {});\n",
              "          if (!dataTable) return;\n",
              "\n",
              "          const docLinkHtml = 'Like what you see? Visit the ' +\n",
              "            '<a target=\"_blank\" href=https://colab.research.google.com/notebooks/data_table.ipynb>data table notebook</a>'\n",
              "            + ' to learn more about interactive tables.';\n",
              "          element.innerHTML = '';\n",
              "          dataTable['output_type'] = 'display_data';\n",
              "          await google.colab.output.renderOutput(dataTable, element);\n",
              "          const docLink = document.createElement('div');\n",
              "          docLink.innerHTML = docLinkHtml;\n",
              "          element.appendChild(docLink);\n",
              "        }\n",
              "      </script>\n",
              "    </div>\n",
              "  </div>\n",
              "  "
            ]
          },
          "metadata": {},
          "execution_count": 11
        }
      ]
    },
    {
      "cell_type": "code",
      "source": [
        "#we need traslator as many news are not in english so we using google translator for that\n",
        "translator = Translator()"
      ],
      "metadata": {
        "id": "e45jTsLit1CN"
      },
      "execution_count": 12,
      "outputs": []
    },
    {
      "cell_type": "code",
      "source": [
        "for i in range(len(df.title)):\n",
        "  df.title[i] = translator.translate(df.title[i]).text\n",
        "  df.description[i] = translator.translate(df.description[i]).text"
      ],
      "metadata": {
        "id": "ibu-VqmSuOBG"
      },
      "execution_count": 13,
      "outputs": []
    },
    {
      "cell_type": "code",
      "source": [
        "df.head()"
      ],
      "metadata": {
        "colab": {
          "base_uri": "https://localhost:8080/",
          "height": 206
        },
        "id": "Itcb4amru0UK",
        "outputId": "595fa6db-5560-4687-e6c8-fb2a3e8b8434"
      },
      "execution_count": 14,
      "outputs": [
        {
          "output_type": "execute_result",
          "data": {
            "text/plain": [
              "                                               title  \\\n",
              "0  World news: Gold prices today, Monday, Decembe...   \n",
              "1  After raising the interest rate.. the price of...   \n",
              "2  Global Beverage Packaging Market Develop Stead...   \n",
              "3  Global 2-Door Medical Cabinets Market Develop ...   \n",
              "4  Technology news: Tesla is using TSMC to obtain...   \n",
              "\n",
              "                                         description           publishedAt  \\\n",
              "0  World news: The following report monitors the ...  2022-12-26T05:51:20Z   \n",
              "1  (Manafen - Al-Bayan) ??? ??? ?????? ?????? ???...  2022-12-26T05:25:29Z   \n",
              "2  Market.us report “Plastic Beverage Packaging” ...  2022-12-26T04:07:57Z   \n",
              "3                                                     2022-12-26T02:23:00Z   \n",
              "4  Technology news: A recent report by DigiTimes ...  2022-12-26T02:20:34Z   \n",
              "\n",
              "   category  \n",
              "0  business  \n",
              "1  business  \n",
              "2  business  \n",
              "3  business  \n",
              "4  business  "
            ],
            "text/html": [
              "\n",
              "  <div id=\"df-8f61ee92-4f26-4b70-9c45-c1e5b8d33b70\">\n",
              "    <div class=\"colab-df-container\">\n",
              "      <div>\n",
              "<style scoped>\n",
              "    .dataframe tbody tr th:only-of-type {\n",
              "        vertical-align: middle;\n",
              "    }\n",
              "\n",
              "    .dataframe tbody tr th {\n",
              "        vertical-align: top;\n",
              "    }\n",
              "\n",
              "    .dataframe thead th {\n",
              "        text-align: right;\n",
              "    }\n",
              "</style>\n",
              "<table border=\"1\" class=\"dataframe\">\n",
              "  <thead>\n",
              "    <tr style=\"text-align: right;\">\n",
              "      <th></th>\n",
              "      <th>title</th>\n",
              "      <th>description</th>\n",
              "      <th>publishedAt</th>\n",
              "      <th>category</th>\n",
              "    </tr>\n",
              "  </thead>\n",
              "  <tbody>\n",
              "    <tr>\n",
              "      <th>0</th>\n",
              "      <td>World news: Gold prices today, Monday, Decembe...</td>\n",
              "      <td>World news: The following report monitors the ...</td>\n",
              "      <td>2022-12-26T05:51:20Z</td>\n",
              "      <td>business</td>\n",
              "    </tr>\n",
              "    <tr>\n",
              "      <th>1</th>\n",
              "      <td>After raising the interest rate.. the price of...</td>\n",
              "      <td>(Manafen - Al-Bayan) ??? ??? ?????? ?????? ???...</td>\n",
              "      <td>2022-12-26T05:25:29Z</td>\n",
              "      <td>business</td>\n",
              "    </tr>\n",
              "    <tr>\n",
              "      <th>2</th>\n",
              "      <td>Global Beverage Packaging Market Develop Stead...</td>\n",
              "      <td>Market.us report “Plastic Beverage Packaging” ...</td>\n",
              "      <td>2022-12-26T04:07:57Z</td>\n",
              "      <td>business</td>\n",
              "    </tr>\n",
              "    <tr>\n",
              "      <th>3</th>\n",
              "      <td>Global 2-Door Medical Cabinets Market Develop ...</td>\n",
              "      <td></td>\n",
              "      <td>2022-12-26T02:23:00Z</td>\n",
              "      <td>business</td>\n",
              "    </tr>\n",
              "    <tr>\n",
              "      <th>4</th>\n",
              "      <td>Technology news: Tesla is using TSMC to obtain...</td>\n",
              "      <td>Technology news: A recent report by DigiTimes ...</td>\n",
              "      <td>2022-12-26T02:20:34Z</td>\n",
              "      <td>business</td>\n",
              "    </tr>\n",
              "  </tbody>\n",
              "</table>\n",
              "</div>\n",
              "      <button class=\"colab-df-convert\" onclick=\"convertToInteractive('df-8f61ee92-4f26-4b70-9c45-c1e5b8d33b70')\"\n",
              "              title=\"Convert this dataframe to an interactive table.\"\n",
              "              style=\"display:none;\">\n",
              "        \n",
              "  <svg xmlns=\"http://www.w3.org/2000/svg\" height=\"24px\"viewBox=\"0 0 24 24\"\n",
              "       width=\"24px\">\n",
              "    <path d=\"M0 0h24v24H0V0z\" fill=\"none\"/>\n",
              "    <path d=\"M18.56 5.44l.94 2.06.94-2.06 2.06-.94-2.06-.94-.94-2.06-.94 2.06-2.06.94zm-11 1L8.5 8.5l.94-2.06 2.06-.94-2.06-.94L8.5 2.5l-.94 2.06-2.06.94zm10 10l.94 2.06.94-2.06 2.06-.94-2.06-.94-.94-2.06-.94 2.06-2.06.94z\"/><path d=\"M17.41 7.96l-1.37-1.37c-.4-.4-.92-.59-1.43-.59-.52 0-1.04.2-1.43.59L10.3 9.45l-7.72 7.72c-.78.78-.78 2.05 0 2.83L4 21.41c.39.39.9.59 1.41.59.51 0 1.02-.2 1.41-.59l7.78-7.78 2.81-2.81c.8-.78.8-2.07 0-2.86zM5.41 20L4 18.59l7.72-7.72 1.47 1.35L5.41 20z\"/>\n",
              "  </svg>\n",
              "      </button>\n",
              "      \n",
              "  <style>\n",
              "    .colab-df-container {\n",
              "      display:flex;\n",
              "      flex-wrap:wrap;\n",
              "      gap: 12px;\n",
              "    }\n",
              "\n",
              "    .colab-df-convert {\n",
              "      background-color: #E8F0FE;\n",
              "      border: none;\n",
              "      border-radius: 50%;\n",
              "      cursor: pointer;\n",
              "      display: none;\n",
              "      fill: #1967D2;\n",
              "      height: 32px;\n",
              "      padding: 0 0 0 0;\n",
              "      width: 32px;\n",
              "    }\n",
              "\n",
              "    .colab-df-convert:hover {\n",
              "      background-color: #E2EBFA;\n",
              "      box-shadow: 0px 1px 2px rgba(60, 64, 67, 0.3), 0px 1px 3px 1px rgba(60, 64, 67, 0.15);\n",
              "      fill: #174EA6;\n",
              "    }\n",
              "\n",
              "    [theme=dark] .colab-df-convert {\n",
              "      background-color: #3B4455;\n",
              "      fill: #D2E3FC;\n",
              "    }\n",
              "\n",
              "    [theme=dark] .colab-df-convert:hover {\n",
              "      background-color: #434B5C;\n",
              "      box-shadow: 0px 1px 3px 1px rgba(0, 0, 0, 0.15);\n",
              "      filter: drop-shadow(0px 1px 2px rgba(0, 0, 0, 0.3));\n",
              "      fill: #FFFFFF;\n",
              "    }\n",
              "  </style>\n",
              "\n",
              "      <script>\n",
              "        const buttonEl =\n",
              "          document.querySelector('#df-8f61ee92-4f26-4b70-9c45-c1e5b8d33b70 button.colab-df-convert');\n",
              "        buttonEl.style.display =\n",
              "          google.colab.kernel.accessAllowed ? 'block' : 'none';\n",
              "\n",
              "        async function convertToInteractive(key) {\n",
              "          const element = document.querySelector('#df-8f61ee92-4f26-4b70-9c45-c1e5b8d33b70');\n",
              "          const dataTable =\n",
              "            await google.colab.kernel.invokeFunction('convertToInteractive',\n",
              "                                                     [key], {});\n",
              "          if (!dataTable) return;\n",
              "\n",
              "          const docLinkHtml = 'Like what you see? Visit the ' +\n",
              "            '<a target=\"_blank\" href=https://colab.research.google.com/notebooks/data_table.ipynb>data table notebook</a>'\n",
              "            + ' to learn more about interactive tables.';\n",
              "          element.innerHTML = '';\n",
              "          dataTable['output_type'] = 'display_data';\n",
              "          await google.colab.output.renderOutput(dataTable, element);\n",
              "          const docLink = document.createElement('div');\n",
              "          docLink.innerHTML = docLinkHtml;\n",
              "          element.appendChild(docLink);\n",
              "        }\n",
              "      </script>\n",
              "    </div>\n",
              "  </div>\n",
              "  "
            ]
          },
          "metadata": {},
          "execution_count": 14
        }
      ]
    },
    {
      "cell_type": "code",
      "source": [
        "df.tail()"
      ],
      "metadata": {
        "colab": {
          "base_uri": "https://localhost:8080/",
          "height": 206
        },
        "id": "pSYDZ794vDOC",
        "outputId": "bdc48803-dcba-4c09-c260-02dad1544243"
      },
      "execution_count": 15,
      "outputs": [
        {
          "output_type": "execute_result",
          "data": {
            "text/plain": [
              "                                                 title  \\\n",
              "455  10 terms that only real PC professionals know ...   \n",
              "456  Digital currencies in focus: This is how Bitco...   \n",
              "457  The ComputerBase Christmas Riddle 2022 - Compu...   \n",
              "458  Switch from iPhone to Android: It's that easy ...   \n",
              "459  Another forum will soon be launched with usene...   \n",
              "\n",
              "                                           description           publishedAt  \\\n",
              "455                                                     2022-12-25T08:03:00Z   \n",
              "456              This is how Bitcoin & Co. move today.  2022-12-25T07:48:20Z   \n",
              "457  St. Nicholas' riddle wasn't hard enough for yo...  2022-12-25T07:00:00Z   \n",
              "458  Whether it's Samsung, Xiaomi or Sony: moving f...  2022-12-25T06:56:30Z   \n",
              "459  In the near future the new German-speaking for...  2022-12-25T06:30:28Z   \n",
              "\n",
              "       category  \n",
              "455  technology  \n",
              "456  technology  \n",
              "457  technology  \n",
              "458  technology  \n",
              "459  technology  "
            ],
            "text/html": [
              "\n",
              "  <div id=\"df-15a58275-ce7e-40c0-a6ee-88e5c01f9da7\">\n",
              "    <div class=\"colab-df-container\">\n",
              "      <div>\n",
              "<style scoped>\n",
              "    .dataframe tbody tr th:only-of-type {\n",
              "        vertical-align: middle;\n",
              "    }\n",
              "\n",
              "    .dataframe tbody tr th {\n",
              "        vertical-align: top;\n",
              "    }\n",
              "\n",
              "    .dataframe thead th {\n",
              "        text-align: right;\n",
              "    }\n",
              "</style>\n",
              "<table border=\"1\" class=\"dataframe\">\n",
              "  <thead>\n",
              "    <tr style=\"text-align: right;\">\n",
              "      <th></th>\n",
              "      <th>title</th>\n",
              "      <th>description</th>\n",
              "      <th>publishedAt</th>\n",
              "      <th>category</th>\n",
              "    </tr>\n",
              "  </thead>\n",
              "  <tbody>\n",
              "    <tr>\n",
              "      <th>455</th>\n",
              "      <td>10 terms that only real PC professionals know ...</td>\n",
              "      <td></td>\n",
              "      <td>2022-12-25T08:03:00Z</td>\n",
              "      <td>technology</td>\n",
              "    </tr>\n",
              "    <tr>\n",
              "      <th>456</th>\n",
              "      <td>Digital currencies in focus: This is how Bitco...</td>\n",
              "      <td>This is how Bitcoin &amp; Co. move today.</td>\n",
              "      <td>2022-12-25T07:48:20Z</td>\n",
              "      <td>technology</td>\n",
              "    </tr>\n",
              "    <tr>\n",
              "      <th>457</th>\n",
              "      <td>The ComputerBase Christmas Riddle 2022 - Compu...</td>\n",
              "      <td>St. Nicholas' riddle wasn't hard enough for yo...</td>\n",
              "      <td>2022-12-25T07:00:00Z</td>\n",
              "      <td>technology</td>\n",
              "    </tr>\n",
              "    <tr>\n",
              "      <th>458</th>\n",
              "      <td>Switch from iPhone to Android: It's that easy ...</td>\n",
              "      <td>Whether it's Samsung, Xiaomi or Sony: moving f...</td>\n",
              "      <td>2022-12-25T06:56:30Z</td>\n",
              "      <td>technology</td>\n",
              "    </tr>\n",
              "    <tr>\n",
              "      <th>459</th>\n",
              "      <td>Another forum will soon be launched with usene...</td>\n",
              "      <td>In the near future the new German-speaking for...</td>\n",
              "      <td>2022-12-25T06:30:28Z</td>\n",
              "      <td>technology</td>\n",
              "    </tr>\n",
              "  </tbody>\n",
              "</table>\n",
              "</div>\n",
              "      <button class=\"colab-df-convert\" onclick=\"convertToInteractive('df-15a58275-ce7e-40c0-a6ee-88e5c01f9da7')\"\n",
              "              title=\"Convert this dataframe to an interactive table.\"\n",
              "              style=\"display:none;\">\n",
              "        \n",
              "  <svg xmlns=\"http://www.w3.org/2000/svg\" height=\"24px\"viewBox=\"0 0 24 24\"\n",
              "       width=\"24px\">\n",
              "    <path d=\"M0 0h24v24H0V0z\" fill=\"none\"/>\n",
              "    <path d=\"M18.56 5.44l.94 2.06.94-2.06 2.06-.94-2.06-.94-.94-2.06-.94 2.06-2.06.94zm-11 1L8.5 8.5l.94-2.06 2.06-.94-2.06-.94L8.5 2.5l-.94 2.06-2.06.94zm10 10l.94 2.06.94-2.06 2.06-.94-2.06-.94-.94-2.06-.94 2.06-2.06.94z\"/><path d=\"M17.41 7.96l-1.37-1.37c-.4-.4-.92-.59-1.43-.59-.52 0-1.04.2-1.43.59L10.3 9.45l-7.72 7.72c-.78.78-.78 2.05 0 2.83L4 21.41c.39.39.9.59 1.41.59.51 0 1.02-.2 1.41-.59l7.78-7.78 2.81-2.81c.8-.78.8-2.07 0-2.86zM5.41 20L4 18.59l7.72-7.72 1.47 1.35L5.41 20z\"/>\n",
              "  </svg>\n",
              "      </button>\n",
              "      \n",
              "  <style>\n",
              "    .colab-df-container {\n",
              "      display:flex;\n",
              "      flex-wrap:wrap;\n",
              "      gap: 12px;\n",
              "    }\n",
              "\n",
              "    .colab-df-convert {\n",
              "      background-color: #E8F0FE;\n",
              "      border: none;\n",
              "      border-radius: 50%;\n",
              "      cursor: pointer;\n",
              "      display: none;\n",
              "      fill: #1967D2;\n",
              "      height: 32px;\n",
              "      padding: 0 0 0 0;\n",
              "      width: 32px;\n",
              "    }\n",
              "\n",
              "    .colab-df-convert:hover {\n",
              "      background-color: #E2EBFA;\n",
              "      box-shadow: 0px 1px 2px rgba(60, 64, 67, 0.3), 0px 1px 3px 1px rgba(60, 64, 67, 0.15);\n",
              "      fill: #174EA6;\n",
              "    }\n",
              "\n",
              "    [theme=dark] .colab-df-convert {\n",
              "      background-color: #3B4455;\n",
              "      fill: #D2E3FC;\n",
              "    }\n",
              "\n",
              "    [theme=dark] .colab-df-convert:hover {\n",
              "      background-color: #434B5C;\n",
              "      box-shadow: 0px 1px 3px 1px rgba(0, 0, 0, 0.15);\n",
              "      filter: drop-shadow(0px 1px 2px rgba(0, 0, 0, 0.3));\n",
              "      fill: #FFFFFF;\n",
              "    }\n",
              "  </style>\n",
              "\n",
              "      <script>\n",
              "        const buttonEl =\n",
              "          document.querySelector('#df-15a58275-ce7e-40c0-a6ee-88e5c01f9da7 button.colab-df-convert');\n",
              "        buttonEl.style.display =\n",
              "          google.colab.kernel.accessAllowed ? 'block' : 'none';\n",
              "\n",
              "        async function convertToInteractive(key) {\n",
              "          const element = document.querySelector('#df-15a58275-ce7e-40c0-a6ee-88e5c01f9da7');\n",
              "          const dataTable =\n",
              "            await google.colab.kernel.invokeFunction('convertToInteractive',\n",
              "                                                     [key], {});\n",
              "          if (!dataTable) return;\n",
              "\n",
              "          const docLinkHtml = 'Like what you see? Visit the ' +\n",
              "            '<a target=\"_blank\" href=https://colab.research.google.com/notebooks/data_table.ipynb>data table notebook</a>'\n",
              "            + ' to learn more about interactive tables.';\n",
              "          element.innerHTML = '';\n",
              "          dataTable['output_type'] = 'display_data';\n",
              "          await google.colab.output.renderOutput(dataTable, element);\n",
              "          const docLink = document.createElement('div');\n",
              "          docLink.innerHTML = docLinkHtml;\n",
              "          element.appendChild(docLink);\n",
              "        }\n",
              "      </script>\n",
              "    </div>\n",
              "  </div>\n",
              "  "
            ]
          },
          "metadata": {},
          "execution_count": 15
        }
      ]
    },
    {
      "cell_type": "code",
      "source": [
        "from nltk.sentiment.vader import SentimentIntensityAnalyzer"
      ],
      "metadata": {
        "id": "W8NtzlXN3GGz"
      },
      "execution_count": 16,
      "outputs": []
    },
    {
      "cell_type": "code",
      "source": [
        "import nltk\n",
        "nltk.download('vader_lexicon')"
      ],
      "metadata": {
        "colab": {
          "base_uri": "https://localhost:8080/"
        },
        "id": "26iSxnFLGcQJ",
        "outputId": "ac6f6071-592c-48f5-aa13-253ec8e07699"
      },
      "execution_count": 17,
      "outputs": [
        {
          "output_type": "stream",
          "name": "stderr",
          "text": [
            "[nltk_data] Downloading package vader_lexicon to /root/nltk_data...\n"
          ]
        },
        {
          "output_type": "execute_result",
          "data": {
            "text/plain": [
              "True"
            ]
          },
          "metadata": {},
          "execution_count": 17
        }
      ]
    },
    {
      "cell_type": "code",
      "source": [
        "for index, row in df['description'].iteritems():\n",
        "  score = SentimentIntensityAnalyzer().polarity_scores(row)\n",
        "\n",
        "  neg = score['neg']\n",
        "  neu = score['neu']\n",
        "  pos = score['pos']\n",
        "\n",
        "  if neg > pos :\n",
        "    df.loc[index,'sentiment'] = \"Negative\"\n",
        "  elif pos > neg:\n",
        "    df.loc[index, 'sentiment'] = \"Positive\"\n",
        "  else:\n",
        "    df.loc[index, 'sentiment'] = \"Neutral\""
      ],
      "metadata": {
        "id": "udrLOgkC3tYn"
      },
      "execution_count": 19,
      "outputs": []
    },
    {
      "cell_type": "code",
      "source": [
        "df.head()"
      ],
      "metadata": {
        "colab": {
          "base_uri": "https://localhost:8080/",
          "height": 206
        },
        "id": "Fpc4MyfAbrLo",
        "outputId": "b4b5fbb8-28c4-47ad-e649-b763d5534785"
      },
      "execution_count": 20,
      "outputs": [
        {
          "output_type": "execute_result",
          "data": {
            "text/plain": [
              "                                               title  \\\n",
              "0  World news: Gold prices today, Monday, Decembe...   \n",
              "1  After raising the interest rate.. the price of...   \n",
              "2  Global Beverage Packaging Market Develop Stead...   \n",
              "3  Global 2-Door Medical Cabinets Market Develop ...   \n",
              "4  Technology news: Tesla is using TSMC to obtain...   \n",
              "\n",
              "                                         description           publishedAt  \\\n",
              "0  World news: The following report monitors the ...  2022-12-26T05:51:20Z   \n",
              "1  (Manafen - Al-Bayan) ??? ??? ?????? ?????? ???...  2022-12-26T05:25:29Z   \n",
              "2  Market.us report “Plastic Beverage Packaging” ...  2022-12-26T04:07:57Z   \n",
              "3                                                     2022-12-26T02:23:00Z   \n",
              "4  Technology news: A recent report by DigiTimes ...  2022-12-26T02:20:34Z   \n",
              "\n",
              "   category sentiment  \n",
              "0  business   Neutral  \n",
              "1  business   Neutral  \n",
              "2  business  Positive  \n",
              "3  business   Neutral  \n",
              "4  business  Positive  "
            ],
            "text/html": [
              "\n",
              "  <div id=\"df-639aa148-4915-475d-8df1-2c6cb05d35e4\">\n",
              "    <div class=\"colab-df-container\">\n",
              "      <div>\n",
              "<style scoped>\n",
              "    .dataframe tbody tr th:only-of-type {\n",
              "        vertical-align: middle;\n",
              "    }\n",
              "\n",
              "    .dataframe tbody tr th {\n",
              "        vertical-align: top;\n",
              "    }\n",
              "\n",
              "    .dataframe thead th {\n",
              "        text-align: right;\n",
              "    }\n",
              "</style>\n",
              "<table border=\"1\" class=\"dataframe\">\n",
              "  <thead>\n",
              "    <tr style=\"text-align: right;\">\n",
              "      <th></th>\n",
              "      <th>title</th>\n",
              "      <th>description</th>\n",
              "      <th>publishedAt</th>\n",
              "      <th>category</th>\n",
              "      <th>sentiment</th>\n",
              "    </tr>\n",
              "  </thead>\n",
              "  <tbody>\n",
              "    <tr>\n",
              "      <th>0</th>\n",
              "      <td>World news: Gold prices today, Monday, Decembe...</td>\n",
              "      <td>World news: The following report monitors the ...</td>\n",
              "      <td>2022-12-26T05:51:20Z</td>\n",
              "      <td>business</td>\n",
              "      <td>Neutral</td>\n",
              "    </tr>\n",
              "    <tr>\n",
              "      <th>1</th>\n",
              "      <td>After raising the interest rate.. the price of...</td>\n",
              "      <td>(Manafen - Al-Bayan) ??? ??? ?????? ?????? ???...</td>\n",
              "      <td>2022-12-26T05:25:29Z</td>\n",
              "      <td>business</td>\n",
              "      <td>Neutral</td>\n",
              "    </tr>\n",
              "    <tr>\n",
              "      <th>2</th>\n",
              "      <td>Global Beverage Packaging Market Develop Stead...</td>\n",
              "      <td>Market.us report “Plastic Beverage Packaging” ...</td>\n",
              "      <td>2022-12-26T04:07:57Z</td>\n",
              "      <td>business</td>\n",
              "      <td>Positive</td>\n",
              "    </tr>\n",
              "    <tr>\n",
              "      <th>3</th>\n",
              "      <td>Global 2-Door Medical Cabinets Market Develop ...</td>\n",
              "      <td></td>\n",
              "      <td>2022-12-26T02:23:00Z</td>\n",
              "      <td>business</td>\n",
              "      <td>Neutral</td>\n",
              "    </tr>\n",
              "    <tr>\n",
              "      <th>4</th>\n",
              "      <td>Technology news: Tesla is using TSMC to obtain...</td>\n",
              "      <td>Technology news: A recent report by DigiTimes ...</td>\n",
              "      <td>2022-12-26T02:20:34Z</td>\n",
              "      <td>business</td>\n",
              "      <td>Positive</td>\n",
              "    </tr>\n",
              "  </tbody>\n",
              "</table>\n",
              "</div>\n",
              "      <button class=\"colab-df-convert\" onclick=\"convertToInteractive('df-639aa148-4915-475d-8df1-2c6cb05d35e4')\"\n",
              "              title=\"Convert this dataframe to an interactive table.\"\n",
              "              style=\"display:none;\">\n",
              "        \n",
              "  <svg xmlns=\"http://www.w3.org/2000/svg\" height=\"24px\"viewBox=\"0 0 24 24\"\n",
              "       width=\"24px\">\n",
              "    <path d=\"M0 0h24v24H0V0z\" fill=\"none\"/>\n",
              "    <path d=\"M18.56 5.44l.94 2.06.94-2.06 2.06-.94-2.06-.94-.94-2.06-.94 2.06-2.06.94zm-11 1L8.5 8.5l.94-2.06 2.06-.94-2.06-.94L8.5 2.5l-.94 2.06-2.06.94zm10 10l.94 2.06.94-2.06 2.06-.94-2.06-.94-.94-2.06-.94 2.06-2.06.94z\"/><path d=\"M17.41 7.96l-1.37-1.37c-.4-.4-.92-.59-1.43-.59-.52 0-1.04.2-1.43.59L10.3 9.45l-7.72 7.72c-.78.78-.78 2.05 0 2.83L4 21.41c.39.39.9.59 1.41.59.51 0 1.02-.2 1.41-.59l7.78-7.78 2.81-2.81c.8-.78.8-2.07 0-2.86zM5.41 20L4 18.59l7.72-7.72 1.47 1.35L5.41 20z\"/>\n",
              "  </svg>\n",
              "      </button>\n",
              "      \n",
              "  <style>\n",
              "    .colab-df-container {\n",
              "      display:flex;\n",
              "      flex-wrap:wrap;\n",
              "      gap: 12px;\n",
              "    }\n",
              "\n",
              "    .colab-df-convert {\n",
              "      background-color: #E8F0FE;\n",
              "      border: none;\n",
              "      border-radius: 50%;\n",
              "      cursor: pointer;\n",
              "      display: none;\n",
              "      fill: #1967D2;\n",
              "      height: 32px;\n",
              "      padding: 0 0 0 0;\n",
              "      width: 32px;\n",
              "    }\n",
              "\n",
              "    .colab-df-convert:hover {\n",
              "      background-color: #E2EBFA;\n",
              "      box-shadow: 0px 1px 2px rgba(60, 64, 67, 0.3), 0px 1px 3px 1px rgba(60, 64, 67, 0.15);\n",
              "      fill: #174EA6;\n",
              "    }\n",
              "\n",
              "    [theme=dark] .colab-df-convert {\n",
              "      background-color: #3B4455;\n",
              "      fill: #D2E3FC;\n",
              "    }\n",
              "\n",
              "    [theme=dark] .colab-df-convert:hover {\n",
              "      background-color: #434B5C;\n",
              "      box-shadow: 0px 1px 3px 1px rgba(0, 0, 0, 0.15);\n",
              "      filter: drop-shadow(0px 1px 2px rgba(0, 0, 0, 0.3));\n",
              "      fill: #FFFFFF;\n",
              "    }\n",
              "  </style>\n",
              "\n",
              "      <script>\n",
              "        const buttonEl =\n",
              "          document.querySelector('#df-639aa148-4915-475d-8df1-2c6cb05d35e4 button.colab-df-convert');\n",
              "        buttonEl.style.display =\n",
              "          google.colab.kernel.accessAllowed ? 'block' : 'none';\n",
              "\n",
              "        async function convertToInteractive(key) {\n",
              "          const element = document.querySelector('#df-639aa148-4915-475d-8df1-2c6cb05d35e4');\n",
              "          const dataTable =\n",
              "            await google.colab.kernel.invokeFunction('convertToInteractive',\n",
              "                                                     [key], {});\n",
              "          if (!dataTable) return;\n",
              "\n",
              "          const docLinkHtml = 'Like what you see? Visit the ' +\n",
              "            '<a target=\"_blank\" href=https://colab.research.google.com/notebooks/data_table.ipynb>data table notebook</a>'\n",
              "            + ' to learn more about interactive tables.';\n",
              "          element.innerHTML = '';\n",
              "          dataTable['output_type'] = 'display_data';\n",
              "          await google.colab.output.renderOutput(dataTable, element);\n",
              "          const docLink = document.createElement('div');\n",
              "          docLink.innerHTML = docLinkHtml;\n",
              "          element.appendChild(docLink);\n",
              "        }\n",
              "      </script>\n",
              "    </div>\n",
              "  </div>\n",
              "  "
            ]
          },
          "metadata": {},
          "execution_count": 20
        }
      ]
    },
    {
      "cell_type": "code",
      "source": [
        "df.to_csv(\"data_news.csv\")"
      ],
      "metadata": {
        "id": "jXR2_rI6vETk"
      },
      "execution_count": 21,
      "outputs": []
    },
    {
      "cell_type": "markdown",
      "source": [
        "#**Task** :: Find the topic of the article and the sentiment."
      ],
      "metadata": {
        "id": "CsoI0r-AGps9"
      }
    },
    {
      "cell_type": "markdown",
      "source": [
        "i was not able to get sufficient data to create model using as api as they have limit on data extraction on unpaid subscription thats why i am using openly availabe data "
      ],
      "metadata": {
        "id": "N7QaFgmkjE1f"
      }
    },
    {
      "cell_type": "code",
      "source": [
        "#importing libraries\n",
        "import pandas as pd\n",
        "import numpy as np\n",
        "import matplotlib.pyplot as plt\n",
        "import seaborn as sns\n",
        "import re\n",
        "import nltk\n",
        "from nltk.corpus import stopwords\n",
        "nltk.download('stopwords')\n",
        "from nltk.stem import WordNetLemmatizer\n",
        "nltk.download('wordnet')\n",
        "nltk.download('omw-1.4')\n",
        "from nltk.tokenize import word_tokenize\n",
        "from nltk.tokenize import sent_tokenize\n",
        "nltk.download('punkt')\n",
        "from wordcloud import WordCloud\n",
        "from sklearn.feature_extraction.text import CountVectorizer\n",
        "from sklearn.model_selection import train_test_split\n",
        "from sklearn.metrics import accuracy_score\n",
        "from sklearn.metrics import confusion_matrix\n",
        "from sklearn.metrics import classification_report\n",
        "from sklearn.metrics import accuracy_score\n",
        "from sklearn.metrics import precision_score\n",
        "from sklearn.metrics import recall_score\n",
        "from sklearn.metrics import f1_score\n",
        "from sklearn.linear_model import LogisticRegression\n",
        "from sklearn.svm import SVC, LinearSVC\n",
        "from sklearn.tree import DecisionTreeClassifier\n",
        "from sklearn.ensemble import RandomForestClassifier\n",
        "from sklearn.neighbors import KNeighborsClassifier\n",
        "from sklearn.naive_bayes import GaussianNB,MultinomialNB,BernoulliNB"
      ],
      "metadata": {
        "colab": {
          "base_uri": "https://localhost:8080/"
        },
        "id": "gAYQiiZxvnRN",
        "outputId": "dfaf63d7-5663-4d72-e0b2-c0e3044300aa"
      },
      "execution_count": 22,
      "outputs": [
        {
          "output_type": "stream",
          "name": "stderr",
          "text": [
            "[nltk_data] Downloading package stopwords to /root/nltk_data...\n",
            "[nltk_data]   Unzipping corpora/stopwords.zip.\n",
            "[nltk_data] Downloading package wordnet to /root/nltk_data...\n",
            "[nltk_data] Downloading package omw-1.4 to /root/nltk_data...\n",
            "[nltk_data] Downloading package punkt to /root/nltk_data...\n",
            "[nltk_data]   Unzipping tokenizers/punkt.zip.\n"
          ]
        }
      ]
    },
    {
      "cell_type": "code",
      "source": [
        "#importing data set\n",
        "dataset = pd.read_csv(\"BBC News Train.csv\")"
      ],
      "metadata": {
        "id": "3MA5vyNpa5vU"
      },
      "execution_count": 29,
      "outputs": []
    },
    {
      "cell_type": "code",
      "source": [
        "dataset.shape"
      ],
      "metadata": {
        "colab": {
          "base_uri": "https://localhost:8080/"
        },
        "id": "GT9eEieKbEMv",
        "outputId": "2caa4c9d-8794-4048-a720-6e8abccb6747"
      },
      "execution_count": 30,
      "outputs": [
        {
          "output_type": "execute_result",
          "data": {
            "text/plain": [
              "(1490, 3)"
            ]
          },
          "metadata": {},
          "execution_count": 30
        }
      ]
    },
    {
      "cell_type": "code",
      "source": [
        "dataset['Category'].value_counts() #category count"
      ],
      "metadata": {
        "colab": {
          "base_uri": "https://localhost:8080/"
        },
        "id": "NnJjNCixbNEF",
        "outputId": "6a37fd57-e0f7-4d1e-d56b-faed48831172"
      },
      "execution_count": 31,
      "outputs": [
        {
          "output_type": "execute_result",
          "data": {
            "text/plain": [
              "sport            346\n",
              "business         336\n",
              "politics         274\n",
              "entertainment    273\n",
              "tech             261\n",
              "Name: Category, dtype: int64"
            ]
          },
          "metadata": {},
          "execution_count": 31
        }
      ]
    },
    {
      "cell_type": "code",
      "source": [
        "target_category = dataset['Category'].unique()\n",
        "print(target_category)"
      ],
      "metadata": {
        "colab": {
          "base_uri": "https://localhost:8080/"
        },
        "id": "xFs-qXybbRww",
        "outputId": "e64f7008-5df3-4426-e90f-ca0bda76d973"
      },
      "execution_count": 32,
      "outputs": [
        {
          "output_type": "stream",
          "name": "stdout",
          "text": [
            "['business' 'tech' 'politics' 'sport' 'entertainment']\n"
          ]
        }
      ]
    },
    {
      "cell_type": "code",
      "source": [
        "dataset['CategoryId'] = dataset['Category'].factorize()[0] #giving id to each category\n",
        "dataset.head()"
      ],
      "metadata": {
        "colab": {
          "base_uri": "https://localhost:8080/",
          "height": 206
        },
        "id": "9QI8FCVIbVZQ",
        "outputId": "4d69a5a7-804a-4f9e-a8b9-e03882965adb"
      },
      "execution_count": 33,
      "outputs": [
        {
          "output_type": "execute_result",
          "data": {
            "text/plain": [
              "   ArticleId                                               Text  Category  \\\n",
              "0       1833  worldcom ex-boss launches defence lawyers defe...  business   \n",
              "1        154  german business confidence slides german busin...  business   \n",
              "2       1101  bbc poll indicates economic gloom citizens in ...  business   \n",
              "3       1976  lifestyle  governs mobile choice  faster  bett...      tech   \n",
              "4        917  enron bosses in $168m payout eighteen former e...  business   \n",
              "\n",
              "   CategoryId  \n",
              "0           0  \n",
              "1           0  \n",
              "2           0  \n",
              "3           1  \n",
              "4           0  "
            ],
            "text/html": [
              "\n",
              "  <div id=\"df-5e20f3ee-0bc4-4e4a-858b-899d63aee317\">\n",
              "    <div class=\"colab-df-container\">\n",
              "      <div>\n",
              "<style scoped>\n",
              "    .dataframe tbody tr th:only-of-type {\n",
              "        vertical-align: middle;\n",
              "    }\n",
              "\n",
              "    .dataframe tbody tr th {\n",
              "        vertical-align: top;\n",
              "    }\n",
              "\n",
              "    .dataframe thead th {\n",
              "        text-align: right;\n",
              "    }\n",
              "</style>\n",
              "<table border=\"1\" class=\"dataframe\">\n",
              "  <thead>\n",
              "    <tr style=\"text-align: right;\">\n",
              "      <th></th>\n",
              "      <th>ArticleId</th>\n",
              "      <th>Text</th>\n",
              "      <th>Category</th>\n",
              "      <th>CategoryId</th>\n",
              "    </tr>\n",
              "  </thead>\n",
              "  <tbody>\n",
              "    <tr>\n",
              "      <th>0</th>\n",
              "      <td>1833</td>\n",
              "      <td>worldcom ex-boss launches defence lawyers defe...</td>\n",
              "      <td>business</td>\n",
              "      <td>0</td>\n",
              "    </tr>\n",
              "    <tr>\n",
              "      <th>1</th>\n",
              "      <td>154</td>\n",
              "      <td>german business confidence slides german busin...</td>\n",
              "      <td>business</td>\n",
              "      <td>0</td>\n",
              "    </tr>\n",
              "    <tr>\n",
              "      <th>2</th>\n",
              "      <td>1101</td>\n",
              "      <td>bbc poll indicates economic gloom citizens in ...</td>\n",
              "      <td>business</td>\n",
              "      <td>0</td>\n",
              "    </tr>\n",
              "    <tr>\n",
              "      <th>3</th>\n",
              "      <td>1976</td>\n",
              "      <td>lifestyle  governs mobile choice  faster  bett...</td>\n",
              "      <td>tech</td>\n",
              "      <td>1</td>\n",
              "    </tr>\n",
              "    <tr>\n",
              "      <th>4</th>\n",
              "      <td>917</td>\n",
              "      <td>enron bosses in $168m payout eighteen former e...</td>\n",
              "      <td>business</td>\n",
              "      <td>0</td>\n",
              "    </tr>\n",
              "  </tbody>\n",
              "</table>\n",
              "</div>\n",
              "      <button class=\"colab-df-convert\" onclick=\"convertToInteractive('df-5e20f3ee-0bc4-4e4a-858b-899d63aee317')\"\n",
              "              title=\"Convert this dataframe to an interactive table.\"\n",
              "              style=\"display:none;\">\n",
              "        \n",
              "  <svg xmlns=\"http://www.w3.org/2000/svg\" height=\"24px\"viewBox=\"0 0 24 24\"\n",
              "       width=\"24px\">\n",
              "    <path d=\"M0 0h24v24H0V0z\" fill=\"none\"/>\n",
              "    <path d=\"M18.56 5.44l.94 2.06.94-2.06 2.06-.94-2.06-.94-.94-2.06-.94 2.06-2.06.94zm-11 1L8.5 8.5l.94-2.06 2.06-.94-2.06-.94L8.5 2.5l-.94 2.06-2.06.94zm10 10l.94 2.06.94-2.06 2.06-.94-2.06-.94-.94-2.06-.94 2.06-2.06.94z\"/><path d=\"M17.41 7.96l-1.37-1.37c-.4-.4-.92-.59-1.43-.59-.52 0-1.04.2-1.43.59L10.3 9.45l-7.72 7.72c-.78.78-.78 2.05 0 2.83L4 21.41c.39.39.9.59 1.41.59.51 0 1.02-.2 1.41-.59l7.78-7.78 2.81-2.81c.8-.78.8-2.07 0-2.86zM5.41 20L4 18.59l7.72-7.72 1.47 1.35L5.41 20z\"/>\n",
              "  </svg>\n",
              "      </button>\n",
              "      \n",
              "  <style>\n",
              "    .colab-df-container {\n",
              "      display:flex;\n",
              "      flex-wrap:wrap;\n",
              "      gap: 12px;\n",
              "    }\n",
              "\n",
              "    .colab-df-convert {\n",
              "      background-color: #E8F0FE;\n",
              "      border: none;\n",
              "      border-radius: 50%;\n",
              "      cursor: pointer;\n",
              "      display: none;\n",
              "      fill: #1967D2;\n",
              "      height: 32px;\n",
              "      padding: 0 0 0 0;\n",
              "      width: 32px;\n",
              "    }\n",
              "\n",
              "    .colab-df-convert:hover {\n",
              "      background-color: #E2EBFA;\n",
              "      box-shadow: 0px 1px 2px rgba(60, 64, 67, 0.3), 0px 1px 3px 1px rgba(60, 64, 67, 0.15);\n",
              "      fill: #174EA6;\n",
              "    }\n",
              "\n",
              "    [theme=dark] .colab-df-convert {\n",
              "      background-color: #3B4455;\n",
              "      fill: #D2E3FC;\n",
              "    }\n",
              "\n",
              "    [theme=dark] .colab-df-convert:hover {\n",
              "      background-color: #434B5C;\n",
              "      box-shadow: 0px 1px 3px 1px rgba(0, 0, 0, 0.15);\n",
              "      filter: drop-shadow(0px 1px 2px rgba(0, 0, 0, 0.3));\n",
              "      fill: #FFFFFF;\n",
              "    }\n",
              "  </style>\n",
              "\n",
              "      <script>\n",
              "        const buttonEl =\n",
              "          document.querySelector('#df-5e20f3ee-0bc4-4e4a-858b-899d63aee317 button.colab-df-convert');\n",
              "        buttonEl.style.display =\n",
              "          google.colab.kernel.accessAllowed ? 'block' : 'none';\n",
              "\n",
              "        async function convertToInteractive(key) {\n",
              "          const element = document.querySelector('#df-5e20f3ee-0bc4-4e4a-858b-899d63aee317');\n",
              "          const dataTable =\n",
              "            await google.colab.kernel.invokeFunction('convertToInteractive',\n",
              "                                                     [key], {});\n",
              "          if (!dataTable) return;\n",
              "\n",
              "          const docLinkHtml = 'Like what you see? Visit the ' +\n",
              "            '<a target=\"_blank\" href=https://colab.research.google.com/notebooks/data_table.ipynb>data table notebook</a>'\n",
              "            + ' to learn more about interactive tables.';\n",
              "          element.innerHTML = '';\n",
              "          dataTable['output_type'] = 'display_data';\n",
              "          await google.colab.output.renderOutput(dataTable, element);\n",
              "          const docLink = document.createElement('div');\n",
              "          docLink.innerHTML = docLinkHtml;\n",
              "          element.appendChild(docLink);\n",
              "        }\n",
              "      </script>\n",
              "    </div>\n",
              "  </div>\n",
              "  "
            ]
          },
          "metadata": {},
          "execution_count": 33
        }
      ]
    },
    {
      "cell_type": "code",
      "source": [
        "category = dataset[['Category', 'CategoryId']].drop_duplicates().sort_values('CategoryId')\n",
        "category"
      ],
      "metadata": {
        "colab": {
          "base_uri": "https://localhost:8080/",
          "height": 206
        },
        "id": "u67PkhgFbZjn",
        "outputId": "018ba160-77ea-4b84-daee-93a267652810"
      },
      "execution_count": 34,
      "outputs": [
        {
          "output_type": "execute_result",
          "data": {
            "text/plain": [
              "        Category  CategoryId\n",
              "0       business           0\n",
              "3           tech           1\n",
              "5       politics           2\n",
              "6          sport           3\n",
              "7  entertainment           4"
            ],
            "text/html": [
              "\n",
              "  <div id=\"df-c4b64d04-b291-41f6-86d6-127bece5725e\">\n",
              "    <div class=\"colab-df-container\">\n",
              "      <div>\n",
              "<style scoped>\n",
              "    .dataframe tbody tr th:only-of-type {\n",
              "        vertical-align: middle;\n",
              "    }\n",
              "\n",
              "    .dataframe tbody tr th {\n",
              "        vertical-align: top;\n",
              "    }\n",
              "\n",
              "    .dataframe thead th {\n",
              "        text-align: right;\n",
              "    }\n",
              "</style>\n",
              "<table border=\"1\" class=\"dataframe\">\n",
              "  <thead>\n",
              "    <tr style=\"text-align: right;\">\n",
              "      <th></th>\n",
              "      <th>Category</th>\n",
              "      <th>CategoryId</th>\n",
              "    </tr>\n",
              "  </thead>\n",
              "  <tbody>\n",
              "    <tr>\n",
              "      <th>0</th>\n",
              "      <td>business</td>\n",
              "      <td>0</td>\n",
              "    </tr>\n",
              "    <tr>\n",
              "      <th>3</th>\n",
              "      <td>tech</td>\n",
              "      <td>1</td>\n",
              "    </tr>\n",
              "    <tr>\n",
              "      <th>5</th>\n",
              "      <td>politics</td>\n",
              "      <td>2</td>\n",
              "    </tr>\n",
              "    <tr>\n",
              "      <th>6</th>\n",
              "      <td>sport</td>\n",
              "      <td>3</td>\n",
              "    </tr>\n",
              "    <tr>\n",
              "      <th>7</th>\n",
              "      <td>entertainment</td>\n",
              "      <td>4</td>\n",
              "    </tr>\n",
              "  </tbody>\n",
              "</table>\n",
              "</div>\n",
              "      <button class=\"colab-df-convert\" onclick=\"convertToInteractive('df-c4b64d04-b291-41f6-86d6-127bece5725e')\"\n",
              "              title=\"Convert this dataframe to an interactive table.\"\n",
              "              style=\"display:none;\">\n",
              "        \n",
              "  <svg xmlns=\"http://www.w3.org/2000/svg\" height=\"24px\"viewBox=\"0 0 24 24\"\n",
              "       width=\"24px\">\n",
              "    <path d=\"M0 0h24v24H0V0z\" fill=\"none\"/>\n",
              "    <path d=\"M18.56 5.44l.94 2.06.94-2.06 2.06-.94-2.06-.94-.94-2.06-.94 2.06-2.06.94zm-11 1L8.5 8.5l.94-2.06 2.06-.94-2.06-.94L8.5 2.5l-.94 2.06-2.06.94zm10 10l.94 2.06.94-2.06 2.06-.94-2.06-.94-.94-2.06-.94 2.06-2.06.94z\"/><path d=\"M17.41 7.96l-1.37-1.37c-.4-.4-.92-.59-1.43-.59-.52 0-1.04.2-1.43.59L10.3 9.45l-7.72 7.72c-.78.78-.78 2.05 0 2.83L4 21.41c.39.39.9.59 1.41.59.51 0 1.02-.2 1.41-.59l7.78-7.78 2.81-2.81c.8-.78.8-2.07 0-2.86zM5.41 20L4 18.59l7.72-7.72 1.47 1.35L5.41 20z\"/>\n",
              "  </svg>\n",
              "      </button>\n",
              "      \n",
              "  <style>\n",
              "    .colab-df-container {\n",
              "      display:flex;\n",
              "      flex-wrap:wrap;\n",
              "      gap: 12px;\n",
              "    }\n",
              "\n",
              "    .colab-df-convert {\n",
              "      background-color: #E8F0FE;\n",
              "      border: none;\n",
              "      border-radius: 50%;\n",
              "      cursor: pointer;\n",
              "      display: none;\n",
              "      fill: #1967D2;\n",
              "      height: 32px;\n",
              "      padding: 0 0 0 0;\n",
              "      width: 32px;\n",
              "    }\n",
              "\n",
              "    .colab-df-convert:hover {\n",
              "      background-color: #E2EBFA;\n",
              "      box-shadow: 0px 1px 2px rgba(60, 64, 67, 0.3), 0px 1px 3px 1px rgba(60, 64, 67, 0.15);\n",
              "      fill: #174EA6;\n",
              "    }\n",
              "\n",
              "    [theme=dark] .colab-df-convert {\n",
              "      background-color: #3B4455;\n",
              "      fill: #D2E3FC;\n",
              "    }\n",
              "\n",
              "    [theme=dark] .colab-df-convert:hover {\n",
              "      background-color: #434B5C;\n",
              "      box-shadow: 0px 1px 3px 1px rgba(0, 0, 0, 0.15);\n",
              "      filter: drop-shadow(0px 1px 2px rgba(0, 0, 0, 0.3));\n",
              "      fill: #FFFFFF;\n",
              "    }\n",
              "  </style>\n",
              "\n",
              "      <script>\n",
              "        const buttonEl =\n",
              "          document.querySelector('#df-c4b64d04-b291-41f6-86d6-127bece5725e button.colab-df-convert');\n",
              "        buttonEl.style.display =\n",
              "          google.colab.kernel.accessAllowed ? 'block' : 'none';\n",
              "\n",
              "        async function convertToInteractive(key) {\n",
              "          const element = document.querySelector('#df-c4b64d04-b291-41f6-86d6-127bece5725e');\n",
              "          const dataTable =\n",
              "            await google.colab.kernel.invokeFunction('convertToInteractive',\n",
              "                                                     [key], {});\n",
              "          if (!dataTable) return;\n",
              "\n",
              "          const docLinkHtml = 'Like what you see? Visit the ' +\n",
              "            '<a target=\"_blank\" href=https://colab.research.google.com/notebooks/data_table.ipynb>data table notebook</a>'\n",
              "            + ' to learn more about interactive tables.';\n",
              "          element.innerHTML = '';\n",
              "          dataTable['output_type'] = 'display_data';\n",
              "          await google.colab.output.renderOutput(dataTable, element);\n",
              "          const docLink = document.createElement('div');\n",
              "          docLink.innerHTML = docLinkHtml;\n",
              "          element.appendChild(docLink);\n",
              "        }\n",
              "      </script>\n",
              "    </div>\n",
              "  </div>\n",
              "  "
            ]
          },
          "metadata": {},
          "execution_count": 34
        }
      ]
    },
    {
      "cell_type": "code",
      "source": [
        "text = dataset[\"Text\"]\n",
        "text.head(10)"
      ],
      "metadata": {
        "colab": {
          "base_uri": "https://localhost:8080/"
        },
        "id": "1xX8ypgrbjJx",
        "outputId": "22cd9dd1-d145-4ac8-bea5-6d067da746ad"
      },
      "execution_count": 35,
      "outputs": [
        {
          "output_type": "execute_result",
          "data": {
            "text/plain": [
              "0    worldcom ex-boss launches defence lawyers defe...\n",
              "1    german business confidence slides german busin...\n",
              "2    bbc poll indicates economic gloom citizens in ...\n",
              "3    lifestyle  governs mobile choice  faster  bett...\n",
              "4    enron bosses in $168m payout eighteen former e...\n",
              "5    howard  truanted to play snooker  conservative...\n",
              "6    wales silent on grand slam talk rhys williams ...\n",
              "7    french honour for director parker british film...\n",
              "8    car giant hit by mercedes slump a slump in pro...\n",
              "9    fockers fuel festive film chart comedy meet th...\n",
              "Name: Text, dtype: object"
            ]
          },
          "metadata": {},
          "execution_count": 35
        }
      ]
    },
    {
      "cell_type": "code",
      "source": [
        "def remove_tags(text):\n",
        "  remove = re.compile(r'')\n",
        "  return re.sub(remove, '', text)\n",
        "  \n",
        "dataset['Text'] = dataset['Text'].apply(remove_tags)\n"
      ],
      "metadata": {
        "id": "_QSFYrAxbm-y"
      },
      "execution_count": 36,
      "outputs": []
    },
    {
      "cell_type": "code",
      "source": [
        "#removing special_char\n",
        "def special_char(text):\n",
        "  reviews = ''\n",
        "  for x in text:\n",
        "    if x.isalnum():\n",
        "      reviews = reviews + x\n",
        "    else:\n",
        "      reviews = reviews + ' '\n",
        "  return reviews\n",
        "dataset['Text'] = dataset['Text'].apply(special_char)"
      ],
      "metadata": {
        "id": "eLX4sY_gbrJv"
      },
      "execution_count": 37,
      "outputs": []
    },
    {
      "cell_type": "code",
      "source": [
        "#converting into lower\n",
        "def convert_lower(text):\n",
        "   return text.lower()\n",
        "dataset['Text'] = dataset['Text'].apply(convert_lower)\n",
        "dataset['Text'][1]"
      ],
      "metadata": {
        "colab": {
          "base_uri": "https://localhost:8080/",
          "height": 123
        },
        "id": "jw3PqSD2bvy1",
        "outputId": "861d429c-2c8f-4f9a-cfc0-50580a1c675d"
      },
      "execution_count": 38,
      "outputs": [
        {
          "output_type": "execute_result",
          "data": {
            "text/plain": [
              "'german business confidence slides german business confidence fell in february knocking hopes of a speedy recovery in europe s largest economy   munich based research institute ifo said that its confidence index fell to 95 5 in february from 97 5 in january  its first decline in three months  the study found that the outlook in both the manufacturing and retail sectors had worsened  observers had been hoping that a more confident business sector would signal that economic activity was picking up    we re surprised that the ifo index has taken such a knock   said dz bank economist bernd weidensteiner   the main reason is probably that the domestic economy is still weak  particularly in the retail trade   economy and labour minister wolfgang clement called the dip in february s ifo confidence figure  a very mild decline   he said that despite the retreat  the index remained at a relatively high level and that he expected  a modest economic upswing  to continue   germany s economy grew 1 6  last year after shrinking in 2003  however  the economy contracted by 0 2  during the last three months of 2004  mainly due to the reluctance of consumers to spend  latest indications are that growth is still proving elusive and ifo president hans werner sinn said any improvement in german domestic demand was sluggish  exports had kept things going during the first half of 2004  but demand for exports was then hit as the value of the euro hit record levels making german products less competitive overseas  on top of that  the unemployment rate has been stuck at close to 10  and manufacturing firms  including daimlerchrysler  siemens and volkswagen  have been negotiating with unions over cost cutting measures  analysts said that the ifo figures and germany s continuing problems may delay an interest rate rise by the european central bank  eurozone interest rates are at 2   but comments from senior officials have recently focused on the threat of inflation  prompting fears that interest rates may rise '"
            ],
            "application/vnd.google.colaboratory.intrinsic+json": {
              "type": "string"
            }
          },
          "metadata": {},
          "execution_count": 38
        }
      ]
    },
    {
      "cell_type": "code",
      "source": [
        "#removing stopwords\n",
        "def remove_stopwords(text):\n",
        "  stop_words = set(stopwords.words('english'))\n",
        "  words = word_tokenize(text)\n",
        "  return [x for x in words if x not in stop_words]\n",
        "dataset['Text'] = dataset['Text'].apply(remove_stopwords)"
      ],
      "metadata": {
        "id": "ML8-DtkzbyHi"
      },
      "execution_count": 39,
      "outputs": []
    },
    {
      "cell_type": "code",
      "source": [
        "#lemmatization of text\n",
        "def lemmatize_word(text):\n",
        "  wordnet = WordNetLemmatizer()\n",
        "  return \" \".join([wordnet.lemmatize(word) for word in text])\n",
        "dataset['Text'] = dataset['Text'].apply(lemmatize_word)\n",
        "dataset['Text'][1]"
      ],
      "metadata": {
        "colab": {
          "base_uri": "https://localhost:8080/",
          "height": 123
        },
        "id": "CZZmial9b0wv",
        "outputId": "4550c5aa-0716-4953-bce4-993d4ac6ffb1"
      },
      "execution_count": 40,
      "outputs": [
        {
          "output_type": "execute_result",
          "data": {
            "text/plain": [
              "'german business confidence slide german business confidence fell february knocking hope speedy recovery europe largest economy munich based research institute ifo said confidence index fell 95 5 february 97 5 january first decline three month study found outlook manufacturing retail sector worsened observer hoping confident business sector would signal economic activity picking surprised ifo index taken knock said dz bank economist bernd weidensteiner main reason probably domestic economy still weak particularly retail trade economy labour minister wolfgang clement called dip february ifo confidence figure mild decline said despite retreat index remained relatively high level expected modest economic upswing continue germany economy grew 1 6 last year shrinking 2003 however economy contracted 0 2 last three month 2004 mainly due reluctance consumer spend latest indication growth still proving elusive ifo president han werner sinn said improvement german domestic demand sluggish export kept thing going first half 2004 demand export hit value euro hit record level making german product le competitive overseas top unemployment rate stuck close 10 manufacturing firm including daimlerchrysler siemens volkswagen negotiating union cost cutting measure analyst said ifo figure germany continuing problem may delay interest rate rise european central bank eurozone interest rate 2 comment senior official recently focused threat inflation prompting fear interest rate may rise'"
            ],
            "application/vnd.google.colaboratory.intrinsic+json": {
              "type": "string"
            }
          },
          "metadata": {},
          "execution_count": 40
        }
      ]
    },
    {
      "cell_type": "code",
      "source": [
        "#defing x and y\n",
        "x = dataset['Text']\n",
        "y = dataset['CategoryId']"
      ],
      "metadata": {
        "id": "rf5Y3uE8b5Nb"
      },
      "execution_count": 41,
      "outputs": []
    },
    {
      "cell_type": "code",
      "source": [
        "from sklearn.feature_extraction.text import CountVectorizer\n",
        "x = np.array(dataset.iloc[:,0].values)\n",
        "y = np.array(dataset.CategoryId.values)\n",
        "cv = CountVectorizer(max_features = 5000)\n",
        "x = cv.fit_transform(dataset.Text).toarray()\n",
        "print(\"X.shape = \",x.shape)\n",
        "print(\"y.shape = \",y.shape)"
      ],
      "metadata": {
        "colab": {
          "base_uri": "https://localhost:8080/"
        },
        "id": "obTwRqMTcDZl",
        "outputId": "cd834bf9-c8ac-4faf-c47d-f020aefd0bb9"
      },
      "execution_count": 42,
      "outputs": [
        {
          "output_type": "stream",
          "name": "stdout",
          "text": [
            "X.shape =  (1490, 5000)\n",
            "y.shape =  (1490,)\n"
          ]
        }
      ]
    },
    {
      "cell_type": "code",
      "source": [
        "#splitting the data\n",
        "from sklearn.model_selection import train_test_split\n",
        "x_train, x_test, y_train, y_test = train_test_split(x, y, test_size = 0.3, random_state = 0, shuffle = True)\n",
        "print(len(x_train))\n",
        "print(len(x_test))"
      ],
      "metadata": {
        "colab": {
          "base_uri": "https://localhost:8080/"
        },
        "id": "P_NYWY_mcFsw",
        "outputId": "25ba2b5c-adee-47ae-e92a-5815ee262be2"
      },
      "execution_count": 43,
      "outputs": [
        {
          "output_type": "stream",
          "name": "stdout",
          "text": [
            "1043\n",
            "447\n"
          ]
        }
      ]
    },
    {
      "cell_type": "code",
      "source": [
        "#creating models\n",
        "def Classifier_model(x_data,y_data):\n",
        "  accuracy=[]\n",
        "  precision=[]\n",
        "  recall=[]\n",
        "  f1=[]\n",
        "\n",
        "  x_train, x_test, y_train, y_test = train_test_split(x_data, y_data, test_size=0.3,random_state=42)\n",
        "\n",
        "  logistic_reg = LogisticRegression()\n",
        "  ml = MultinomialNB(alpha=1.0,fit_prior=True)\n",
        "  naive_bayes = GaussianNB()\n",
        "  svm=SVC()\n",
        "  dtree= DecisionTreeClassifier()\n",
        "  rf = RandomForestClassifier(n_estimators=100 ,criterion='entropy' , random_state=0)\n",
        "  KNN =KNeighborsClassifier(n_neighbors=10 , metric= 'minkowski' , p = 4)\n",
        "  \n",
        "  list = [logistic_reg,ml,naive_bayes,svm,dtree,rf,KNN]\n",
        "  score = []\n",
        "  for i in list:\n",
        "    i.fit(x_train, y_train)\n",
        "    pred = i.predict(x_test)\n",
        "    print('\\n')\n",
        "    print(f'for {i} accuracy : {round(i.score(x_test, y_test)*100,2)} %')\n",
        "    score.append(i.score(x_test, y_test))\n",
        "    print(f'for {i}')    \n",
        "    print(classification_report(y_test,pred))\n",
        "    print(confusion_matrix(y_test,pred))\n",
        "    print('\\n')\n",
        "\n",
        "    accuracy.append(accuracy_score(y_test,pred))\n",
        "    precision.append(precision_score(y_test,pred,average='micro'))\n",
        "    recall.append(recall_score(y_test,pred,average='micro'))\n",
        "    f1.append(f1_score(y_test,pred,average='micro'))\n",
        "\n",
        "  return accuracy,precision,recall,f1"
      ],
      "metadata": {
        "id": "vKW0CtcLHs9H"
      },
      "execution_count": 44,
      "outputs": []
    },
    {
      "cell_type": "code",
      "source": [
        "acc,pre,re,F1=Classifier_model(x_train,y_train)"
      ],
      "metadata": {
        "colab": {
          "base_uri": "https://localhost:8080/"
        },
        "id": "YWV3wHcFH5Fz",
        "outputId": "a6358836-b81f-4b9a-bebe-f34e9283c7dd"
      },
      "execution_count": 45,
      "outputs": [
        {
          "output_type": "stream",
          "name": "stdout",
          "text": [
            "\n",
            "\n",
            "for LogisticRegression() accuracy : 95.85 %\n",
            "for LogisticRegression()\n",
            "              precision    recall  f1-score   support\n",
            "\n",
            "           0       0.92      0.96      0.94        80\n",
            "           1       0.98      0.92      0.95        53\n",
            "           2       0.98      0.92      0.95        50\n",
            "           3       0.96      0.99      0.97        68\n",
            "           4       0.98      0.98      0.98        62\n",
            "\n",
            "    accuracy                           0.96       313\n",
            "   macro avg       0.96      0.96      0.96       313\n",
            "weighted avg       0.96      0.96      0.96       313\n",
            "\n",
            "[[77  0  1  2  0]\n",
            " [ 3 49  0  0  1]\n",
            " [ 3  1 46  0  0]\n",
            " [ 1  0  0 67  0]\n",
            " [ 0  0  0  1 61]]\n",
            "\n",
            "\n",
            "\n",
            "\n",
            "for MultinomialNB() accuracy : 97.44 %\n",
            "for MultinomialNB()\n",
            "              precision    recall  f1-score   support\n",
            "\n",
            "           0       0.99      0.94      0.96        80\n",
            "           1       0.96      1.00      0.98        53\n",
            "           2       0.92      0.94      0.93        50\n",
            "           3       1.00      1.00      1.00        68\n",
            "           4       0.98      1.00      0.99        62\n",
            "\n",
            "    accuracy                           0.97       313\n",
            "   macro avg       0.97      0.98      0.97       313\n",
            "weighted avg       0.97      0.97      0.97       313\n",
            "\n",
            "[[75  0  4  0  1]\n",
            " [ 0 53  0  0  0]\n",
            " [ 1  2 47  0  0]\n",
            " [ 0  0  0 68  0]\n",
            " [ 0  0  0  0 62]]\n",
            "\n",
            "\n",
            "\n",
            "\n",
            "for GaussianNB() accuracy : 89.14 %\n",
            "for GaussianNB()\n",
            "              precision    recall  f1-score   support\n",
            "\n",
            "           0       0.91      0.80      0.85        80\n",
            "           1       0.84      0.92      0.88        53\n",
            "           2       0.77      0.82      0.80        50\n",
            "           3       0.99      0.97      0.98        68\n",
            "           4       0.91      0.95      0.93        62\n",
            "\n",
            "    accuracy                           0.89       313\n",
            "   macro avg       0.89      0.89      0.89       313\n",
            "weighted avg       0.89      0.89      0.89       313\n",
            "\n",
            "[[64  6  7  0  3]\n",
            " [ 2 49  2  0  0]\n",
            " [ 4  2 41  0  3]\n",
            " [ 0  0  2 66  0]\n",
            " [ 0  1  1  1 59]]\n",
            "\n",
            "\n",
            "\n",
            "\n",
            "for SVC() accuracy : 91.37 %\n",
            "for SVC()\n",
            "              precision    recall  f1-score   support\n",
            "\n",
            "           0       0.94      0.94      0.94        80\n",
            "           1       0.80      0.92      0.86        53\n",
            "           2       0.92      0.90      0.91        50\n",
            "           3       0.95      0.93      0.94        68\n",
            "           4       0.95      0.87      0.91        62\n",
            "\n",
            "    accuracy                           0.91       313\n",
            "   macro avg       0.91      0.91      0.91       313\n",
            "weighted avg       0.92      0.91      0.91       313\n",
            "\n",
            "[[75  1  2  2  0]\n",
            " [ 1 49  0  0  3]\n",
            " [ 3  2 45  0  0]\n",
            " [ 1  4  0 63  0]\n",
            " [ 0  5  2  1 54]]\n",
            "\n",
            "\n",
            "\n",
            "\n",
            "for DecisionTreeClassifier() accuracy : 81.15 %\n",
            "for DecisionTreeClassifier()\n",
            "              precision    recall  f1-score   support\n",
            "\n",
            "           0       0.84      0.86      0.85        80\n",
            "           1       0.80      0.77      0.79        53\n",
            "           2       0.88      0.70      0.78        50\n",
            "           3       0.79      0.90      0.84        68\n",
            "           4       0.76      0.77      0.77        62\n",
            "\n",
            "    accuracy                           0.81       313\n",
            "   macro avg       0.81      0.80      0.81       313\n",
            "weighted avg       0.81      0.81      0.81       313\n",
            "\n",
            "[[69  5  2  0  4]\n",
            " [ 4 41  2  5  1]\n",
            " [ 2  3 35  2  8]\n",
            " [ 4  0  1 61  2]\n",
            " [ 3  2  0  9 48]]\n",
            "\n",
            "\n",
            "\n",
            "\n",
            "for RandomForestClassifier(criterion='entropy', random_state=0) accuracy : 94.25 %\n",
            "for RandomForestClassifier(criterion='entropy', random_state=0)\n",
            "              precision    recall  f1-score   support\n",
            "\n",
            "           0       0.94      0.95      0.94        80\n",
            "           1       0.96      0.92      0.94        53\n",
            "           2       0.90      0.94      0.92        50\n",
            "           3       0.96      0.99      0.97        68\n",
            "           4       0.95      0.90      0.93        62\n",
            "\n",
            "    accuracy                           0.94       313\n",
            "   macro avg       0.94      0.94      0.94       313\n",
            "weighted avg       0.94      0.94      0.94       313\n",
            "\n",
            "[[76  0  4  0  0]\n",
            " [ 2 49  0  0  2]\n",
            " [ 1  1 47  0  1]\n",
            " [ 1  0  0 67  0]\n",
            " [ 1  1  1  3 56]]\n",
            "\n",
            "\n",
            "\n",
            "\n",
            "for KNeighborsClassifier(n_neighbors=10, p=4) accuracy : 65.18 %\n",
            "for KNeighborsClassifier(n_neighbors=10, p=4)\n",
            "              precision    recall  f1-score   support\n",
            "\n",
            "           0       0.78      0.54      0.64        80\n",
            "           1       0.96      0.51      0.67        53\n",
            "           2       0.77      0.60      0.67        50\n",
            "           3       0.45      1.00      0.62        68\n",
            "           4       0.90      0.58      0.71        62\n",
            "\n",
            "    accuracy                           0.65       313\n",
            "   macro avg       0.77      0.65      0.66       313\n",
            "weighted avg       0.76      0.65      0.66       313\n",
            "\n",
            "[[43  0  5 32  0]\n",
            " [ 5 27  1 16  4]\n",
            " [ 6  1 30 13  0]\n",
            " [ 0  0  0 68  0]\n",
            " [ 1  0  3 22 36]]\n",
            "\n",
            "\n"
          ]
        }
      ]
    },
    {
      "cell_type": "code",
      "source": [
        "#creating dataframe for scores\n",
        "performance=pd.DataFrame()\n",
        "performance['Model']=['logistic_reg','Multinomial Naive Bayes','Gaussian Naive Bayes','Support Vector Classifer','Decision Tree Classifier','Random Forest','K Nearest Neighbour']\n",
        "performance['Accuracy']=acc\n",
        "performance['precision']=pre\n",
        "performance['Recall']=re\n",
        "performance['F1_score']=F1"
      ],
      "metadata": {
        "id": "B_kkSxoDKjE2"
      },
      "execution_count": 46,
      "outputs": []
    },
    {
      "cell_type": "code",
      "source": [
        "performance"
      ],
      "metadata": {
        "colab": {
          "base_uri": "https://localhost:8080/",
          "height": 269
        },
        "id": "SdWR1XZZLeSM",
        "outputId": "cbbecdf4-87d8-4ff2-cb78-b3999ed9f3d7"
      },
      "execution_count": 53,
      "outputs": [
        {
          "output_type": "execute_result",
          "data": {
            "text/plain": [
              "                      Model  Accuracy  precision    Recall  F1_score\n",
              "0              logistic_reg  0.958466   0.958466  0.958466  0.958466\n",
              "1   Multinomial Naive Bayes  0.974441   0.974441  0.974441  0.974441\n",
              "2      Gaussian Naive Bayes  0.891374   0.891374  0.891374  0.891374\n",
              "3  Support Vector Classifer  0.913738   0.913738  0.913738  0.913738\n",
              "4  Decision Tree Classifier  0.811502   0.811502  0.811502  0.811502\n",
              "5             Random Forest  0.942492   0.942492  0.942492  0.942492\n",
              "6       K Nearest Neighbour  0.651757   0.651757  0.651757  0.651757"
            ],
            "text/html": [
              "\n",
              "  <div id=\"df-9087377b-225b-421b-85ac-b3d511990ff3\">\n",
              "    <div class=\"colab-df-container\">\n",
              "      <div>\n",
              "<style scoped>\n",
              "    .dataframe tbody tr th:only-of-type {\n",
              "        vertical-align: middle;\n",
              "    }\n",
              "\n",
              "    .dataframe tbody tr th {\n",
              "        vertical-align: top;\n",
              "    }\n",
              "\n",
              "    .dataframe thead th {\n",
              "        text-align: right;\n",
              "    }\n",
              "</style>\n",
              "<table border=\"1\" class=\"dataframe\">\n",
              "  <thead>\n",
              "    <tr style=\"text-align: right;\">\n",
              "      <th></th>\n",
              "      <th>Model</th>\n",
              "      <th>Accuracy</th>\n",
              "      <th>precision</th>\n",
              "      <th>Recall</th>\n",
              "      <th>F1_score</th>\n",
              "    </tr>\n",
              "  </thead>\n",
              "  <tbody>\n",
              "    <tr>\n",
              "      <th>0</th>\n",
              "      <td>logistic_reg</td>\n",
              "      <td>0.958466</td>\n",
              "      <td>0.958466</td>\n",
              "      <td>0.958466</td>\n",
              "      <td>0.958466</td>\n",
              "    </tr>\n",
              "    <tr>\n",
              "      <th>1</th>\n",
              "      <td>Multinomial Naive Bayes</td>\n",
              "      <td>0.974441</td>\n",
              "      <td>0.974441</td>\n",
              "      <td>0.974441</td>\n",
              "      <td>0.974441</td>\n",
              "    </tr>\n",
              "    <tr>\n",
              "      <th>2</th>\n",
              "      <td>Gaussian Naive Bayes</td>\n",
              "      <td>0.891374</td>\n",
              "      <td>0.891374</td>\n",
              "      <td>0.891374</td>\n",
              "      <td>0.891374</td>\n",
              "    </tr>\n",
              "    <tr>\n",
              "      <th>3</th>\n",
              "      <td>Support Vector Classifer</td>\n",
              "      <td>0.913738</td>\n",
              "      <td>0.913738</td>\n",
              "      <td>0.913738</td>\n",
              "      <td>0.913738</td>\n",
              "    </tr>\n",
              "    <tr>\n",
              "      <th>4</th>\n",
              "      <td>Decision Tree Classifier</td>\n",
              "      <td>0.811502</td>\n",
              "      <td>0.811502</td>\n",
              "      <td>0.811502</td>\n",
              "      <td>0.811502</td>\n",
              "    </tr>\n",
              "    <tr>\n",
              "      <th>5</th>\n",
              "      <td>Random Forest</td>\n",
              "      <td>0.942492</td>\n",
              "      <td>0.942492</td>\n",
              "      <td>0.942492</td>\n",
              "      <td>0.942492</td>\n",
              "    </tr>\n",
              "    <tr>\n",
              "      <th>6</th>\n",
              "      <td>K Nearest Neighbour</td>\n",
              "      <td>0.651757</td>\n",
              "      <td>0.651757</td>\n",
              "      <td>0.651757</td>\n",
              "      <td>0.651757</td>\n",
              "    </tr>\n",
              "  </tbody>\n",
              "</table>\n",
              "</div>\n",
              "      <button class=\"colab-df-convert\" onclick=\"convertToInteractive('df-9087377b-225b-421b-85ac-b3d511990ff3')\"\n",
              "              title=\"Convert this dataframe to an interactive table.\"\n",
              "              style=\"display:none;\">\n",
              "        \n",
              "  <svg xmlns=\"http://www.w3.org/2000/svg\" height=\"24px\"viewBox=\"0 0 24 24\"\n",
              "       width=\"24px\">\n",
              "    <path d=\"M0 0h24v24H0V0z\" fill=\"none\"/>\n",
              "    <path d=\"M18.56 5.44l.94 2.06.94-2.06 2.06-.94-2.06-.94-.94-2.06-.94 2.06-2.06.94zm-11 1L8.5 8.5l.94-2.06 2.06-.94-2.06-.94L8.5 2.5l-.94 2.06-2.06.94zm10 10l.94 2.06.94-2.06 2.06-.94-2.06-.94-.94-2.06-.94 2.06-2.06.94z\"/><path d=\"M17.41 7.96l-1.37-1.37c-.4-.4-.92-.59-1.43-.59-.52 0-1.04.2-1.43.59L10.3 9.45l-7.72 7.72c-.78.78-.78 2.05 0 2.83L4 21.41c.39.39.9.59 1.41.59.51 0 1.02-.2 1.41-.59l7.78-7.78 2.81-2.81c.8-.78.8-2.07 0-2.86zM5.41 20L4 18.59l7.72-7.72 1.47 1.35L5.41 20z\"/>\n",
              "  </svg>\n",
              "      </button>\n",
              "      \n",
              "  <style>\n",
              "    .colab-df-container {\n",
              "      display:flex;\n",
              "      flex-wrap:wrap;\n",
              "      gap: 12px;\n",
              "    }\n",
              "\n",
              "    .colab-df-convert {\n",
              "      background-color: #E8F0FE;\n",
              "      border: none;\n",
              "      border-radius: 50%;\n",
              "      cursor: pointer;\n",
              "      display: none;\n",
              "      fill: #1967D2;\n",
              "      height: 32px;\n",
              "      padding: 0 0 0 0;\n",
              "      width: 32px;\n",
              "    }\n",
              "\n",
              "    .colab-df-convert:hover {\n",
              "      background-color: #E2EBFA;\n",
              "      box-shadow: 0px 1px 2px rgba(60, 64, 67, 0.3), 0px 1px 3px 1px rgba(60, 64, 67, 0.15);\n",
              "      fill: #174EA6;\n",
              "    }\n",
              "\n",
              "    [theme=dark] .colab-df-convert {\n",
              "      background-color: #3B4455;\n",
              "      fill: #D2E3FC;\n",
              "    }\n",
              "\n",
              "    [theme=dark] .colab-df-convert:hover {\n",
              "      background-color: #434B5C;\n",
              "      box-shadow: 0px 1px 3px 1px rgba(0, 0, 0, 0.15);\n",
              "      filter: drop-shadow(0px 1px 2px rgba(0, 0, 0, 0.3));\n",
              "      fill: #FFFFFF;\n",
              "    }\n",
              "  </style>\n",
              "\n",
              "      <script>\n",
              "        const buttonEl =\n",
              "          document.querySelector('#df-9087377b-225b-421b-85ac-b3d511990ff3 button.colab-df-convert');\n",
              "        buttonEl.style.display =\n",
              "          google.colab.kernel.accessAllowed ? 'block' : 'none';\n",
              "\n",
              "        async function convertToInteractive(key) {\n",
              "          const element = document.querySelector('#df-9087377b-225b-421b-85ac-b3d511990ff3');\n",
              "          const dataTable =\n",
              "            await google.colab.kernel.invokeFunction('convertToInteractive',\n",
              "                                                     [key], {});\n",
              "          if (!dataTable) return;\n",
              "\n",
              "          const docLinkHtml = 'Like what you see? Visit the ' +\n",
              "            '<a target=\"_blank\" href=https://colab.research.google.com/notebooks/data_table.ipynb>data table notebook</a>'\n",
              "            + ' to learn more about interactive tables.';\n",
              "          element.innerHTML = '';\n",
              "          dataTable['output_type'] = 'display_data';\n",
              "          await google.colab.output.renderOutput(dataTable, element);\n",
              "          const docLink = document.createElement('div');\n",
              "          docLink.innerHTML = docLinkHtml;\n",
              "          element.appendChild(docLink);\n",
              "        }\n",
              "      </script>\n",
              "    </div>\n",
              "  </div>\n",
              "  "
            ]
          },
          "metadata": {},
          "execution_count": 53
        }
      ]
    },
    {
      "cell_type": "code",
      "source": [
        "classifier =  MultinomialNB(alpha=1.0,fit_prior=True).fit(x_train, y_train)\n",
        "classifier\n",
        "y_pred = classifier.predict(x_test)"
      ],
      "metadata": {
        "id": "fDs48-5ydHCt"
      },
      "execution_count": 65,
      "outputs": []
    },
    {
      "cell_type": "code",
      "source": [
        "y_pred"
      ],
      "metadata": {
        "colab": {
          "base_uri": "https://localhost:8080/"
        },
        "id": "DQ_yJTdGdkxF",
        "outputId": "52a75862-75ba-487b-c69a-9b498e9e66a5"
      },
      "execution_count": 68,
      "outputs": [
        {
          "output_type": "execute_result",
          "data": {
            "text/plain": [
              "array([4, 2, 3, 2, 3, 0, 0, 1, 4, 0, 3, 4, 2, 1, 3, 1, 0, 4, 1, 4, 1, 1,\n",
              "       4, 1, 0, 0, 2, 3, 4, 1, 4, 3, 4, 4, 4, 0, 2, 0, 1, 1, 3, 0, 2, 0,\n",
              "       3, 4, 3, 4, 1, 3, 2, 3, 4, 3, 3, 4, 4, 2, 3, 4, 3, 1, 3, 0, 3, 1,\n",
              "       0, 1, 0, 4, 3, 3, 4, 1, 1, 2, 2, 2, 4, 1, 2, 1, 4, 4, 4, 3, 1, 0,\n",
              "       0, 0, 0, 0, 3, 4, 2, 3, 0, 1, 4, 2, 4, 0, 0, 3, 2, 0, 3, 1, 2, 0,\n",
              "       4, 4, 2, 2, 4, 4, 4, 4, 1, 2, 2, 0, 2, 3, 4, 1, 3, 3, 3, 3, 3, 3,\n",
              "       0, 2, 2, 3, 3, 1, 3, 2, 0, 3, 2, 0, 4, 0, 1, 4, 2, 1, 3, 3, 3, 2,\n",
              "       3, 3, 0, 4, 4, 0, 4, 0, 3, 0, 3, 3, 0, 2, 3, 0, 0, 4, 3, 4, 0, 4,\n",
              "       1, 2, 0, 4, 1, 1, 1, 2, 1, 3, 0, 0, 4, 3, 2, 4, 2, 1, 0, 2, 2, 3,\n",
              "       4, 2, 0, 3, 1, 4, 3, 0, 3, 4, 0, 1, 4, 0, 0, 1, 0, 2, 1, 4, 3, 2,\n",
              "       4, 4, 1, 2, 0, 0, 2, 1, 4, 3, 3, 2, 2, 1, 2, 1, 4, 4, 1, 2, 4, 0,\n",
              "       3, 3, 3, 1, 0, 2, 4, 2, 0, 1, 1, 0, 2, 3, 2, 2, 0, 4, 0, 1, 3, 1,\n",
              "       3, 0, 0, 2, 1, 2, 2, 2, 0, 1, 2, 3, 2, 4, 4, 1, 0, 1, 2, 4, 4, 3,\n",
              "       3, 0, 0, 4, 1, 4, 3, 3, 1, 4, 4, 2, 1, 1, 4, 1, 0, 3, 3, 1, 2, 3,\n",
              "       1, 3, 4, 1, 0, 0, 1, 4, 4, 0, 2, 2, 0, 4, 2, 2, 0, 0, 4, 0, 1, 3,\n",
              "       2, 3, 3, 3, 4, 2, 4, 2, 0, 0, 1, 3, 3, 4, 1, 3, 2, 3, 0, 3, 0, 2,\n",
              "       3, 0, 0, 1, 0, 0, 3, 0, 1, 3, 3, 3, 3, 1, 0, 0, 4, 4, 0, 0, 1, 0,\n",
              "       2, 4, 2, 0, 3, 2, 2, 0, 4, 1, 2, 0, 3, 0, 2, 1, 0, 3, 0, 0, 0, 3,\n",
              "       4, 0, 0, 4, 2, 2, 4, 4, 3, 1, 4, 4, 3, 0, 4, 1, 4, 3, 1, 3, 4, 2,\n",
              "       1, 2, 4, 2, 4, 0, 0, 2, 3, 1, 4, 0, 3, 1, 2, 0, 2, 2, 1, 4, 4, 2,\n",
              "       1, 4, 3, 0, 3, 1, 3])"
            ]
          },
          "metadata": {},
          "execution_count": 68
        }
      ]
    },
    {
      "cell_type": "code",
      "source": [],
      "metadata": {
        "id": "VbZaGnMLeQlf"
      },
      "execution_count": null,
      "outputs": []
    }
  ]
}